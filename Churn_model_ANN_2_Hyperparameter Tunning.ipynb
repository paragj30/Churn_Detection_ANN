{
  "nbformat": 4,
  "nbformat_minor": 0,
  "metadata": {
    "colab": {
      "provenance": []
    },
    "kernelspec": {
      "name": "python3",
      "display_name": "Python 3"
    },
    "language_info": {
      "name": "python"
    },
    "accelerator": "GPU",
    "gpuClass": "standard"
  },
  "cells": [
    {
      "cell_type": "code",
      "source": [
        "import os\n",
        "\n",
        "import pandas as pd\n",
        "\n",
        "import matplotlib.pyplot as plt\n",
        "import seaborn as sns\n",
        "\n",
        "from sklearn.model_selection import train_test_split\n",
        "from sklearn.preprocessing import OneHotEncoder, StandardScaler\n",
        "from sklearn.decomposition import PCA\n",
        "from imblearn.over_sampling import SMOTE\n",
        "\n",
        "import tensorflow as tf\n",
        "from tensorflow.keras.callbacks import EarlyStopping\n",
        "\n",
        "from keras_tuner.tuners import RandomSearch\n",
        "\n",
        "%matplotlib inline"
      ],
      "metadata": {
        "id": "-KG8zJ3IVGP-"
      },
      "execution_count": null,
      "outputs": []
    },
    {
      "cell_type": "code",
      "source": [
        "df = pd.read_csv('Churn_Modelling.csv')\n",
        "df.head(5)"
      ],
      "metadata": {
        "colab": {
          "base_uri": "https://localhost:8080/",
          "height": 270
        },
        "id": "ZlFxBx3xVs9D",
        "outputId": "62a30c6b-bbc5-4fee-d7ef-137ea50c19df"
      },
      "execution_count": null,
      "outputs": [
        {
          "output_type": "execute_result",
          "data": {
            "text/plain": [
              "   RowNumber  CustomerId   Surname  CreditScore Geography  Gender  Age  \\\n",
              "0          1    15634602  Hargrave          619    France  Female   42   \n",
              "1          2    15647311      Hill          608     Spain  Female   41   \n",
              "2          3    15619304      Onio          502    France  Female   42   \n",
              "3          4    15701354      Boni          699    France  Female   39   \n",
              "4          5    15737888  Mitchell          850     Spain  Female   43   \n",
              "\n",
              "   Tenure    Balance  NumOfProducts  HasCrCard  IsActiveMember  \\\n",
              "0       2       0.00              1          1               1   \n",
              "1       1   83807.86              1          0               1   \n",
              "2       8  159660.80              3          1               0   \n",
              "3       1       0.00              2          0               0   \n",
              "4       2  125510.82              1          1               1   \n",
              "\n",
              "   EstimatedSalary  Exited  \n",
              "0        101348.88       1  \n",
              "1        112542.58       0  \n",
              "2        113931.57       1  \n",
              "3         93826.63       0  \n",
              "4         79084.10       0  "
            ],
            "text/html": [
              "\n",
              "  <div id=\"df-b0062092-2b49-4f81-9ab8-183c22718c35\">\n",
              "    <div class=\"colab-df-container\">\n",
              "      <div>\n",
              "<style scoped>\n",
              "    .dataframe tbody tr th:only-of-type {\n",
              "        vertical-align: middle;\n",
              "    }\n",
              "\n",
              "    .dataframe tbody tr th {\n",
              "        vertical-align: top;\n",
              "    }\n",
              "\n",
              "    .dataframe thead th {\n",
              "        text-align: right;\n",
              "    }\n",
              "</style>\n",
              "<table border=\"1\" class=\"dataframe\">\n",
              "  <thead>\n",
              "    <tr style=\"text-align: right;\">\n",
              "      <th></th>\n",
              "      <th>RowNumber</th>\n",
              "      <th>CustomerId</th>\n",
              "      <th>Surname</th>\n",
              "      <th>CreditScore</th>\n",
              "      <th>Geography</th>\n",
              "      <th>Gender</th>\n",
              "      <th>Age</th>\n",
              "      <th>Tenure</th>\n",
              "      <th>Balance</th>\n",
              "      <th>NumOfProducts</th>\n",
              "      <th>HasCrCard</th>\n",
              "      <th>IsActiveMember</th>\n",
              "      <th>EstimatedSalary</th>\n",
              "      <th>Exited</th>\n",
              "    </tr>\n",
              "  </thead>\n",
              "  <tbody>\n",
              "    <tr>\n",
              "      <th>0</th>\n",
              "      <td>1</td>\n",
              "      <td>15634602</td>\n",
              "      <td>Hargrave</td>\n",
              "      <td>619</td>\n",
              "      <td>France</td>\n",
              "      <td>Female</td>\n",
              "      <td>42</td>\n",
              "      <td>2</td>\n",
              "      <td>0.00</td>\n",
              "      <td>1</td>\n",
              "      <td>1</td>\n",
              "      <td>1</td>\n",
              "      <td>101348.88</td>\n",
              "      <td>1</td>\n",
              "    </tr>\n",
              "    <tr>\n",
              "      <th>1</th>\n",
              "      <td>2</td>\n",
              "      <td>15647311</td>\n",
              "      <td>Hill</td>\n",
              "      <td>608</td>\n",
              "      <td>Spain</td>\n",
              "      <td>Female</td>\n",
              "      <td>41</td>\n",
              "      <td>1</td>\n",
              "      <td>83807.86</td>\n",
              "      <td>1</td>\n",
              "      <td>0</td>\n",
              "      <td>1</td>\n",
              "      <td>112542.58</td>\n",
              "      <td>0</td>\n",
              "    </tr>\n",
              "    <tr>\n",
              "      <th>2</th>\n",
              "      <td>3</td>\n",
              "      <td>15619304</td>\n",
              "      <td>Onio</td>\n",
              "      <td>502</td>\n",
              "      <td>France</td>\n",
              "      <td>Female</td>\n",
              "      <td>42</td>\n",
              "      <td>8</td>\n",
              "      <td>159660.80</td>\n",
              "      <td>3</td>\n",
              "      <td>1</td>\n",
              "      <td>0</td>\n",
              "      <td>113931.57</td>\n",
              "      <td>1</td>\n",
              "    </tr>\n",
              "    <tr>\n",
              "      <th>3</th>\n",
              "      <td>4</td>\n",
              "      <td>15701354</td>\n",
              "      <td>Boni</td>\n",
              "      <td>699</td>\n",
              "      <td>France</td>\n",
              "      <td>Female</td>\n",
              "      <td>39</td>\n",
              "      <td>1</td>\n",
              "      <td>0.00</td>\n",
              "      <td>2</td>\n",
              "      <td>0</td>\n",
              "      <td>0</td>\n",
              "      <td>93826.63</td>\n",
              "      <td>0</td>\n",
              "    </tr>\n",
              "    <tr>\n",
              "      <th>4</th>\n",
              "      <td>5</td>\n",
              "      <td>15737888</td>\n",
              "      <td>Mitchell</td>\n",
              "      <td>850</td>\n",
              "      <td>Spain</td>\n",
              "      <td>Female</td>\n",
              "      <td>43</td>\n",
              "      <td>2</td>\n",
              "      <td>125510.82</td>\n",
              "      <td>1</td>\n",
              "      <td>1</td>\n",
              "      <td>1</td>\n",
              "      <td>79084.10</td>\n",
              "      <td>0</td>\n",
              "    </tr>\n",
              "  </tbody>\n",
              "</table>\n",
              "</div>\n",
              "      <button class=\"colab-df-convert\" onclick=\"convertToInteractive('df-b0062092-2b49-4f81-9ab8-183c22718c35')\"\n",
              "              title=\"Convert this dataframe to an interactive table.\"\n",
              "              style=\"display:none;\">\n",
              "        \n",
              "  <svg xmlns=\"http://www.w3.org/2000/svg\" height=\"24px\"viewBox=\"0 0 24 24\"\n",
              "       width=\"24px\">\n",
              "    <path d=\"M0 0h24v24H0V0z\" fill=\"none\"/>\n",
              "    <path d=\"M18.56 5.44l.94 2.06.94-2.06 2.06-.94-2.06-.94-.94-2.06-.94 2.06-2.06.94zm-11 1L8.5 8.5l.94-2.06 2.06-.94-2.06-.94L8.5 2.5l-.94 2.06-2.06.94zm10 10l.94 2.06.94-2.06 2.06-.94-2.06-.94-.94-2.06-.94 2.06-2.06.94z\"/><path d=\"M17.41 7.96l-1.37-1.37c-.4-.4-.92-.59-1.43-.59-.52 0-1.04.2-1.43.59L10.3 9.45l-7.72 7.72c-.78.78-.78 2.05 0 2.83L4 21.41c.39.39.9.59 1.41.59.51 0 1.02-.2 1.41-.59l7.78-7.78 2.81-2.81c.8-.78.8-2.07 0-2.86zM5.41 20L4 18.59l7.72-7.72 1.47 1.35L5.41 20z\"/>\n",
              "  </svg>\n",
              "      </button>\n",
              "      \n",
              "  <style>\n",
              "    .colab-df-container {\n",
              "      display:flex;\n",
              "      flex-wrap:wrap;\n",
              "      gap: 12px;\n",
              "    }\n",
              "\n",
              "    .colab-df-convert {\n",
              "      background-color: #E8F0FE;\n",
              "      border: none;\n",
              "      border-radius: 50%;\n",
              "      cursor: pointer;\n",
              "      display: none;\n",
              "      fill: #1967D2;\n",
              "      height: 32px;\n",
              "      padding: 0 0 0 0;\n",
              "      width: 32px;\n",
              "    }\n",
              "\n",
              "    .colab-df-convert:hover {\n",
              "      background-color: #E2EBFA;\n",
              "      box-shadow: 0px 1px 2px rgba(60, 64, 67, 0.3), 0px 1px 3px 1px rgba(60, 64, 67, 0.15);\n",
              "      fill: #174EA6;\n",
              "    }\n",
              "\n",
              "    [theme=dark] .colab-df-convert {\n",
              "      background-color: #3B4455;\n",
              "      fill: #D2E3FC;\n",
              "    }\n",
              "\n",
              "    [theme=dark] .colab-df-convert:hover {\n",
              "      background-color: #434B5C;\n",
              "      box-shadow: 0px 1px 3px 1px rgba(0, 0, 0, 0.15);\n",
              "      filter: drop-shadow(0px 1px 2px rgba(0, 0, 0, 0.3));\n",
              "      fill: #FFFFFF;\n",
              "    }\n",
              "  </style>\n",
              "\n",
              "      <script>\n",
              "        const buttonEl =\n",
              "          document.querySelector('#df-b0062092-2b49-4f81-9ab8-183c22718c35 button.colab-df-convert');\n",
              "        buttonEl.style.display =\n",
              "          google.colab.kernel.accessAllowed ? 'block' : 'none';\n",
              "\n",
              "        async function convertToInteractive(key) {\n",
              "          const element = document.querySelector('#df-b0062092-2b49-4f81-9ab8-183c22718c35');\n",
              "          const dataTable =\n",
              "            await google.colab.kernel.invokeFunction('convertToInteractive',\n",
              "                                                     [key], {});\n",
              "          if (!dataTable) return;\n",
              "\n",
              "          const docLinkHtml = 'Like what you see? Visit the ' +\n",
              "            '<a target=\"_blank\" href=https://colab.research.google.com/notebooks/data_table.ipynb>data table notebook</a>'\n",
              "            + ' to learn more about interactive tables.';\n",
              "          element.innerHTML = '';\n",
              "          dataTable['output_type'] = 'display_data';\n",
              "          await google.colab.output.renderOutput(dataTable, element);\n",
              "          const docLink = document.createElement('div');\n",
              "          docLink.innerHTML = docLinkHtml;\n",
              "          element.appendChild(docLink);\n",
              "        }\n",
              "      </script>\n",
              "    </div>\n",
              "  </div>\n",
              "  "
            ]
          },
          "metadata": {},
          "execution_count": 6
        }
      ]
    },
    {
      "cell_type": "code",
      "source": [
        "df.drop(['RowNumber','CustomerId','Surname'],axis=1, inplace=True)\n",
        "df.head(5)"
      ],
      "metadata": {
        "colab": {
          "base_uri": "https://localhost:8080/",
          "height": 270
        },
        "id": "74lcxGScV1If",
        "outputId": "f953ed10-f45d-41e8-c312-4ce9f694c8e1"
      },
      "execution_count": null,
      "outputs": [
        {
          "output_type": "execute_result",
          "data": {
            "text/plain": [
              "   CreditScore Geography  Gender  Age  Tenure    Balance  NumOfProducts  \\\n",
              "0          619    France  Female   42       2       0.00              1   \n",
              "1          608     Spain  Female   41       1   83807.86              1   \n",
              "2          502    France  Female   42       8  159660.80              3   \n",
              "3          699    France  Female   39       1       0.00              2   \n",
              "4          850     Spain  Female   43       2  125510.82              1   \n",
              "\n",
              "   HasCrCard  IsActiveMember  EstimatedSalary  Exited  \n",
              "0          1               1        101348.88       1  \n",
              "1          0               1        112542.58       0  \n",
              "2          1               0        113931.57       1  \n",
              "3          0               0         93826.63       0  \n",
              "4          1               1         79084.10       0  "
            ],
            "text/html": [
              "\n",
              "  <div id=\"df-da074609-9f05-4a1d-ac63-c84fd7103cc0\">\n",
              "    <div class=\"colab-df-container\">\n",
              "      <div>\n",
              "<style scoped>\n",
              "    .dataframe tbody tr th:only-of-type {\n",
              "        vertical-align: middle;\n",
              "    }\n",
              "\n",
              "    .dataframe tbody tr th {\n",
              "        vertical-align: top;\n",
              "    }\n",
              "\n",
              "    .dataframe thead th {\n",
              "        text-align: right;\n",
              "    }\n",
              "</style>\n",
              "<table border=\"1\" class=\"dataframe\">\n",
              "  <thead>\n",
              "    <tr style=\"text-align: right;\">\n",
              "      <th></th>\n",
              "      <th>CreditScore</th>\n",
              "      <th>Geography</th>\n",
              "      <th>Gender</th>\n",
              "      <th>Age</th>\n",
              "      <th>Tenure</th>\n",
              "      <th>Balance</th>\n",
              "      <th>NumOfProducts</th>\n",
              "      <th>HasCrCard</th>\n",
              "      <th>IsActiveMember</th>\n",
              "      <th>EstimatedSalary</th>\n",
              "      <th>Exited</th>\n",
              "    </tr>\n",
              "  </thead>\n",
              "  <tbody>\n",
              "    <tr>\n",
              "      <th>0</th>\n",
              "      <td>619</td>\n",
              "      <td>France</td>\n",
              "      <td>Female</td>\n",
              "      <td>42</td>\n",
              "      <td>2</td>\n",
              "      <td>0.00</td>\n",
              "      <td>1</td>\n",
              "      <td>1</td>\n",
              "      <td>1</td>\n",
              "      <td>101348.88</td>\n",
              "      <td>1</td>\n",
              "    </tr>\n",
              "    <tr>\n",
              "      <th>1</th>\n",
              "      <td>608</td>\n",
              "      <td>Spain</td>\n",
              "      <td>Female</td>\n",
              "      <td>41</td>\n",
              "      <td>1</td>\n",
              "      <td>83807.86</td>\n",
              "      <td>1</td>\n",
              "      <td>0</td>\n",
              "      <td>1</td>\n",
              "      <td>112542.58</td>\n",
              "      <td>0</td>\n",
              "    </tr>\n",
              "    <tr>\n",
              "      <th>2</th>\n",
              "      <td>502</td>\n",
              "      <td>France</td>\n",
              "      <td>Female</td>\n",
              "      <td>42</td>\n",
              "      <td>8</td>\n",
              "      <td>159660.80</td>\n",
              "      <td>3</td>\n",
              "      <td>1</td>\n",
              "      <td>0</td>\n",
              "      <td>113931.57</td>\n",
              "      <td>1</td>\n",
              "    </tr>\n",
              "    <tr>\n",
              "      <th>3</th>\n",
              "      <td>699</td>\n",
              "      <td>France</td>\n",
              "      <td>Female</td>\n",
              "      <td>39</td>\n",
              "      <td>1</td>\n",
              "      <td>0.00</td>\n",
              "      <td>2</td>\n",
              "      <td>0</td>\n",
              "      <td>0</td>\n",
              "      <td>93826.63</td>\n",
              "      <td>0</td>\n",
              "    </tr>\n",
              "    <tr>\n",
              "      <th>4</th>\n",
              "      <td>850</td>\n",
              "      <td>Spain</td>\n",
              "      <td>Female</td>\n",
              "      <td>43</td>\n",
              "      <td>2</td>\n",
              "      <td>125510.82</td>\n",
              "      <td>1</td>\n",
              "      <td>1</td>\n",
              "      <td>1</td>\n",
              "      <td>79084.10</td>\n",
              "      <td>0</td>\n",
              "    </tr>\n",
              "  </tbody>\n",
              "</table>\n",
              "</div>\n",
              "      <button class=\"colab-df-convert\" onclick=\"convertToInteractive('df-da074609-9f05-4a1d-ac63-c84fd7103cc0')\"\n",
              "              title=\"Convert this dataframe to an interactive table.\"\n",
              "              style=\"display:none;\">\n",
              "        \n",
              "  <svg xmlns=\"http://www.w3.org/2000/svg\" height=\"24px\"viewBox=\"0 0 24 24\"\n",
              "       width=\"24px\">\n",
              "    <path d=\"M0 0h24v24H0V0z\" fill=\"none\"/>\n",
              "    <path d=\"M18.56 5.44l.94 2.06.94-2.06 2.06-.94-2.06-.94-.94-2.06-.94 2.06-2.06.94zm-11 1L8.5 8.5l.94-2.06 2.06-.94-2.06-.94L8.5 2.5l-.94 2.06-2.06.94zm10 10l.94 2.06.94-2.06 2.06-.94-2.06-.94-.94-2.06-.94 2.06-2.06.94z\"/><path d=\"M17.41 7.96l-1.37-1.37c-.4-.4-.92-.59-1.43-.59-.52 0-1.04.2-1.43.59L10.3 9.45l-7.72 7.72c-.78.78-.78 2.05 0 2.83L4 21.41c.39.39.9.59 1.41.59.51 0 1.02-.2 1.41-.59l7.78-7.78 2.81-2.81c.8-.78.8-2.07 0-2.86zM5.41 20L4 18.59l7.72-7.72 1.47 1.35L5.41 20z\"/>\n",
              "  </svg>\n",
              "      </button>\n",
              "      \n",
              "  <style>\n",
              "    .colab-df-container {\n",
              "      display:flex;\n",
              "      flex-wrap:wrap;\n",
              "      gap: 12px;\n",
              "    }\n",
              "\n",
              "    .colab-df-convert {\n",
              "      background-color: #E8F0FE;\n",
              "      border: none;\n",
              "      border-radius: 50%;\n",
              "      cursor: pointer;\n",
              "      display: none;\n",
              "      fill: #1967D2;\n",
              "      height: 32px;\n",
              "      padding: 0 0 0 0;\n",
              "      width: 32px;\n",
              "    }\n",
              "\n",
              "    .colab-df-convert:hover {\n",
              "      background-color: #E2EBFA;\n",
              "      box-shadow: 0px 1px 2px rgba(60, 64, 67, 0.3), 0px 1px 3px 1px rgba(60, 64, 67, 0.15);\n",
              "      fill: #174EA6;\n",
              "    }\n",
              "\n",
              "    [theme=dark] .colab-df-convert {\n",
              "      background-color: #3B4455;\n",
              "      fill: #D2E3FC;\n",
              "    }\n",
              "\n",
              "    [theme=dark] .colab-df-convert:hover {\n",
              "      background-color: #434B5C;\n",
              "      box-shadow: 0px 1px 3px 1px rgba(0, 0, 0, 0.15);\n",
              "      filter: drop-shadow(0px 1px 2px rgba(0, 0, 0, 0.3));\n",
              "      fill: #FFFFFF;\n",
              "    }\n",
              "  </style>\n",
              "\n",
              "      <script>\n",
              "        const buttonEl =\n",
              "          document.querySelector('#df-da074609-9f05-4a1d-ac63-c84fd7103cc0 button.colab-df-convert');\n",
              "        buttonEl.style.display =\n",
              "          google.colab.kernel.accessAllowed ? 'block' : 'none';\n",
              "\n",
              "        async function convertToInteractive(key) {\n",
              "          const element = document.querySelector('#df-da074609-9f05-4a1d-ac63-c84fd7103cc0');\n",
              "          const dataTable =\n",
              "            await google.colab.kernel.invokeFunction('convertToInteractive',\n",
              "                                                     [key], {});\n",
              "          if (!dataTable) return;\n",
              "\n",
              "          const docLinkHtml = 'Like what you see? Visit the ' +\n",
              "            '<a target=\"_blank\" href=https://colab.research.google.com/notebooks/data_table.ipynb>data table notebook</a>'\n",
              "            + ' to learn more about interactive tables.';\n",
              "          element.innerHTML = '';\n",
              "          dataTable['output_type'] = 'display_data';\n",
              "          await google.colab.output.renderOutput(dataTable, element);\n",
              "          const docLink = document.createElement('div');\n",
              "          docLink.innerHTML = docLinkHtml;\n",
              "          element.appendChild(docLink);\n",
              "        }\n",
              "      </script>\n",
              "    </div>\n",
              "  </div>\n",
              "  "
            ]
          },
          "metadata": {},
          "execution_count": 7
        }
      ]
    },
    {
      "cell_type": "code",
      "source": [
        "df_train, df_test = train_test_split(df, test_size=0.2, random_state=42)\n",
        "\n",
        "print('df_train shape: ',df_train.shape)\n",
        "print('df_test shape: ',df_test.shape)"
      ],
      "metadata": {
        "colab": {
          "base_uri": "https://localhost:8080/"
        },
        "id": "z3__O0unWA4U",
        "outputId": "a8e49301-b345-4de7-ba18-7b22bab75c6f"
      },
      "execution_count": null,
      "outputs": [
        {
          "output_type": "stream",
          "name": "stdout",
          "text": [
            "df_train shape:  (8000, 11)\n",
            "df_test shape:  (2000, 11)\n"
          ]
        }
      ]
    },
    {
      "cell_type": "code",
      "source": [
        "X_train = df_train.drop(['Exited'],axis=1)\n",
        "y_train = df_train['Exited']\n",
        "\n",
        "X_test = df_test.drop(['Exited'],axis=1)\n",
        "y_test = df_test['Exited']\n",
        "\n",
        "print('X_train shape: ',X_train.shape)\n",
        "print('y_train shape: ',y_train.shape)\n",
        "\n",
        "print('X_test shape: ',X_test.shape)\n",
        "print('y_test shape: ',y_test.shape)"
      ],
      "metadata": {
        "colab": {
          "base_uri": "https://localhost:8080/"
        },
        "id": "Rm9gN5rDWNVQ",
        "outputId": "6e371995-aeea-4d10-c07c-2ec2101daf0d"
      },
      "execution_count": null,
      "outputs": [
        {
          "output_type": "stream",
          "name": "stdout",
          "text": [
            "X_train shape:  (8000, 10)\n",
            "y_train shape:  (8000,)\n",
            "X_test shape:  (2000, 10)\n",
            "y_test shape:  (2000,)\n"
          ]
        }
      ]
    },
    {
      "cell_type": "code",
      "source": [
        "enc = OneHotEncoder(handle_unknown= 'ignore')\n",
        "enc.fit(X_train)\n",
        "\n",
        "X_train = enc.transform(X_train)\n",
        "X_test = enc.transform(X_test)\n",
        "\n",
        "print('X_train shape: ',X_train.shape)\n",
        "print('y_train shape: ',y_train.shape)\n",
        "\n",
        "print('X_test shape: ',X_test.shape)\n",
        "print('y_test shape: ',y_test.shape)"
      ],
      "metadata": {
        "colab": {
          "base_uri": "https://localhost:8080/"
        },
        "id": "ZmM6b0MBWiV5",
        "outputId": "825dec15-7351-4fad-be02-26ed55afe114"
      },
      "execution_count": null,
      "outputs": [
        {
          "output_type": "stream",
          "name": "stdout",
          "text": [
            "X_train shape:  (8000, 13629)\n",
            "y_train shape:  (8000,)\n",
            "X_test shape:  (2000, 13629)\n",
            "y_test shape:  (2000,)\n"
          ]
        }
      ]
    },
    {
      "cell_type": "code",
      "source": [
        "scaler = StandardScaler(with_mean=False)\n",
        "scaler.fit(X_train)\n",
        "\n",
        "X_train = scaler.transform(X_train)\n",
        "X_test = scaler.transform(X_test)\n",
        "\n",
        "print('X_train shape: ',X_train.shape)\n",
        "print('y_train shape: ',y_train.shape)\n",
        "\n",
        "print('X_test shape: ',X_test.shape)\n",
        "print('y_test shape: ',y_test.shape)"
      ],
      "metadata": {
        "colab": {
          "base_uri": "https://localhost:8080/"
        },
        "id": "p1Vu9ZTUW0Pm",
        "outputId": "a8728967-67de-4ea6-a5ed-b3bf03e8607f"
      },
      "execution_count": null,
      "outputs": [
        {
          "output_type": "stream",
          "name": "stdout",
          "text": [
            "X_train shape:  (8000, 13629)\n",
            "y_train shape:  (8000,)\n",
            "X_test shape:  (2000, 13629)\n",
            "y_test shape:  (2000,)\n"
          ]
        }
      ]
    },
    {
      "cell_type": "code",
      "source": [
        "pca = PCA(n_components=50)\n",
        "pca.fit(X_train.toarray())\n",
        "\n",
        "X_train = pca.transform(X_train.toarray())\n",
        "X_test = pca.transform(X_test.toarray())\n",
        "\n",
        "\n",
        "print('X_train shape: ',X_train.shape)\n",
        "print('y_train shape: ',y_train.shape)\n",
        "\n",
        "print('X_test shape: ',X_test.shape)\n",
        "print('y_test shape: ',y_test.shape)"
      ],
      "metadata": {
        "colab": {
          "base_uri": "https://localhost:8080/"
        },
        "id": "zrISBhcgXEvQ",
        "outputId": "3c767138-1be1-40cb-832c-403e9ca67515"
      },
      "execution_count": null,
      "outputs": [
        {
          "output_type": "stream",
          "name": "stdout",
          "text": [
            "X_train shape:  (8000, 50)\n",
            "y_train shape:  (8000,)\n",
            "X_test shape:  (2000, 50)\n",
            "y_test shape:  (2000,)\n"
          ]
        }
      ]
    },
    {
      "cell_type": "code",
      "source": [
        "sm = SMOTE()\n",
        "X_train, y_train = sm.fit_resample(X_train, y_train)\n",
        "\n",
        "print('X_train shape: ',X_train.shape)\n",
        "print('y_train shape: ',y_train.shape)\n",
        "\n",
        "print('X_test shape: ',X_test.shape)\n",
        "print('y_test shape: ',y_test.shape)"
      ],
      "metadata": {
        "colab": {
          "base_uri": "https://localhost:8080/"
        },
        "id": "xEyf-wKZXRyk",
        "outputId": "bf7d02db-3efa-45f1-a549-9274450609c5"
      },
      "execution_count": null,
      "outputs": [
        {
          "output_type": "stream",
          "name": "stdout",
          "text": [
            "X_train shape:  (12712, 50)\n",
            "y_train shape:  (12712,)\n",
            "X_test shape:  (2000, 50)\n",
            "y_test shape:  (2000,)\n"
          ]
        }
      ]
    },
    {
      "cell_type": "code",
      "source": [
        "#ANN Model Building"
      ],
      "metadata": {
        "id": "482FUdZhXZaR"
      },
      "execution_count": null,
      "outputs": []
    },
    {
      "cell_type": "code",
      "source": [
        "# Creat model\n",
        "model = tf.keras.Sequential()\n",
        "\n",
        "# adding the input layer\n",
        "model.add(tf.keras.layers.Input(shape= (50,)))\n",
        "\n",
        "#adding the hidden layer_1\n",
        "model.add(tf.keras.layers.Dense(units = 40, activation = 'relu', kernel_initializer = 'he_normal'))\n",
        "\n",
        "#adding the hidden_layer_2\n",
        "model.add(tf.keras.layers.Dense(units = 30, activation = 'relu', kernel_initializer = 'he_normal'))\n",
        "\n",
        "#adding the output layer\n",
        "model.add(tf.keras.layers.Dense(units = 1, activation = 'sigmoid', kernel_initializer = 'glorot_normal' ))\n",
        "\n",
        "#model compiling\n",
        "model.compile(optimizer = 'Adam',\n",
        "              loss = 'binary_crossentropy',\n",
        "              metrics = ['accuracy', 'Precision','Recall'])"
      ],
      "metadata": {
        "id": "ITFb--x6XdjH"
      },
      "execution_count": null,
      "outputs": []
    },
    {
      "cell_type": "code",
      "source": [
        "model.summary()"
      ],
      "metadata": {
        "colab": {
          "base_uri": "https://localhost:8080/"
        },
        "id": "JDrCZvbIYao1",
        "outputId": "e7b13956-0a1e-4e20-ab6c-190c28e05b79"
      },
      "execution_count": null,
      "outputs": [
        {
          "output_type": "stream",
          "name": "stdout",
          "text": [
            "Model: \"sequential\"\n",
            "_________________________________________________________________\n",
            " Layer (type)                Output Shape              Param #   \n",
            "=================================================================\n",
            " dense (Dense)               (None, 40)                2040      \n",
            "                                                                 \n",
            " dense_1 (Dense)             (None, 30)                1230      \n",
            "                                                                 \n",
            " dense_2 (Dense)             (None, 1)                 31        \n",
            "                                                                 \n",
            "=================================================================\n",
            "Total params: 3,301\n",
            "Trainable params: 3,301\n",
            "Non-trainable params: 0\n",
            "_________________________________________________________________\n"
          ]
        }
      ]
    },
    {
      "cell_type": "code",
      "source": [
        "history_obj= model.fit(x= X_train,\n",
        "                       y= y_train,\n",
        "                       batch_size = 512,\n",
        "                       epochs = 100,\n",
        "                       validation_data = (X_test, y_test),\n",
        "                       validation_batch_size = 512,\n",
        "                       use_multiprocessing = True,\n",
        "                       workers = 50)"
      ],
      "metadata": {
        "colab": {
          "base_uri": "https://localhost:8080/"
        },
        "id": "2cRq0xUpYdUL",
        "outputId": "226805d3-b09e-447c-d01d-093afd8831e8"
      },
      "execution_count": null,
      "outputs": [
        {
          "output_type": "stream",
          "name": "stdout",
          "text": [
            "Epoch 1/100\n",
            "25/25 [==============================] - 4s 25ms/step - loss: 0.8099 - accuracy: 0.5210 - precision: 0.5217 - recall: 0.5042 - val_loss: 0.6673 - val_accuracy: 0.6115 - val_precision: 0.2557 - val_recall: 0.5115\n",
            "Epoch 2/100\n",
            "25/25 [==============================] - 0s 9ms/step - loss: 0.6694 - accuracy: 0.6185 - precision: 0.6329 - recall: 0.5647 - val_loss: 0.6399 - val_accuracy: 0.6600 - val_precision: 0.3099 - val_recall: 0.5954\n",
            "Epoch 3/100\n",
            "25/25 [==============================] - 0s 12ms/step - loss: 0.6100 - accuracy: 0.6755 - precision: 0.6947 - recall: 0.6262 - val_loss: 0.6181 - val_accuracy: 0.6780 - val_precision: 0.3302 - val_recall: 0.6209\n",
            "Epoch 4/100\n",
            "25/25 [==============================] - 0s 12ms/step - loss: 0.5719 - accuracy: 0.7099 - precision: 0.7229 - recall: 0.6808 - val_loss: 0.6020 - val_accuracy: 0.6860 - val_precision: 0.3410 - val_recall: 0.6412\n",
            "Epoch 5/100\n",
            "25/25 [==============================] - 0s 12ms/step - loss: 0.5443 - accuracy: 0.7299 - precision: 0.7419 - recall: 0.7052 - val_loss: 0.5924 - val_accuracy: 0.6875 - val_precision: 0.3474 - val_recall: 0.6718\n",
            "Epoch 6/100\n",
            "25/25 [==============================] - 0s 11ms/step - loss: 0.5237 - accuracy: 0.7450 - precision: 0.7553 - recall: 0.7250 - val_loss: 0.5941 - val_accuracy: 0.6810 - val_precision: 0.3471 - val_recall: 0.7074\n",
            "Epoch 7/100\n",
            "25/25 [==============================] - 0s 10ms/step - loss: 0.5073 - accuracy: 0.7568 - precision: 0.7622 - recall: 0.7464 - val_loss: 0.5954 - val_accuracy: 0.6725 - val_precision: 0.3429 - val_recall: 0.7277\n",
            "Epoch 8/100\n",
            "25/25 [==============================] - 0s 7ms/step - loss: 0.4933 - accuracy: 0.7679 - precision: 0.7709 - recall: 0.7624 - val_loss: 0.5916 - val_accuracy: 0.6735 - val_precision: 0.3445 - val_recall: 0.7328\n",
            "Epoch 9/100\n",
            "25/25 [==============================] - 0s 7ms/step - loss: 0.4815 - accuracy: 0.7760 - precision: 0.7759 - recall: 0.7763 - val_loss: 0.6018 - val_accuracy: 0.6610 - val_precision: 0.3390 - val_recall: 0.7634\n",
            "Epoch 10/100\n",
            "25/25 [==============================] - 0s 7ms/step - loss: 0.4708 - accuracy: 0.7821 - precision: 0.7799 - recall: 0.7860 - val_loss: 0.6135 - val_accuracy: 0.6480 - val_precision: 0.3326 - val_recall: 0.7863\n",
            "Epoch 11/100\n",
            "25/25 [==============================] - 0s 8ms/step - loss: 0.4604 - accuracy: 0.7902 - precision: 0.7892 - recall: 0.7920 - val_loss: 0.6169 - val_accuracy: 0.6425 - val_precision: 0.3291 - val_recall: 0.7888\n",
            "Epoch 12/100\n",
            "25/25 [==============================] - 0s 13ms/step - loss: 0.4510 - accuracy: 0.7971 - precision: 0.7930 - recall: 0.8041 - val_loss: 0.6272 - val_accuracy: 0.6325 - val_precision: 0.3248 - val_recall: 0.8066\n",
            "Epoch 13/100\n",
            "25/25 [==============================] - 0s 12ms/step - loss: 0.4420 - accuracy: 0.8033 - precision: 0.7998 - recall: 0.8090 - val_loss: 0.6381 - val_accuracy: 0.6180 - val_precision: 0.3180 - val_recall: 0.8244\n",
            "Epoch 14/100\n",
            "25/25 [==============================] - 0s 11ms/step - loss: 0.4338 - accuracy: 0.8072 - precision: 0.8007 - recall: 0.8180 - val_loss: 0.6493 - val_accuracy: 0.6090 - val_precision: 0.3142 - val_recall: 0.8372\n",
            "Epoch 15/100\n",
            "25/25 [==============================] - 0s 12ms/step - loss: 0.4256 - accuracy: 0.8118 - precision: 0.8069 - recall: 0.8199 - val_loss: 0.6607 - val_accuracy: 0.6005 - val_precision: 0.3099 - val_recall: 0.8422\n",
            "Epoch 16/100\n",
            "25/25 [==============================] - 0s 10ms/step - loss: 0.4184 - accuracy: 0.8162 - precision: 0.8097 - recall: 0.8266 - val_loss: 0.6846 - val_accuracy: 0.5840 - val_precision: 0.3028 - val_recall: 0.8575\n",
            "Epoch 17/100\n",
            "25/25 [==============================] - 0s 7ms/step - loss: 0.4104 - accuracy: 0.8202 - precision: 0.8115 - recall: 0.8340 - val_loss: 0.6664 - val_accuracy: 0.5985 - val_precision: 0.3077 - val_recall: 0.8346\n",
            "Epoch 18/100\n",
            "25/25 [==============================] - 0s 9ms/step - loss: 0.4033 - accuracy: 0.8225 - precision: 0.8137 - recall: 0.8364 - val_loss: 0.6784 - val_accuracy: 0.5920 - val_precision: 0.3051 - val_recall: 0.8422\n",
            "Epoch 19/100\n",
            "25/25 [==============================] - 0s 8ms/step - loss: 0.3964 - accuracy: 0.8263 - precision: 0.8190 - recall: 0.8378 - val_loss: 0.6978 - val_accuracy: 0.5765 - val_precision: 0.2977 - val_recall: 0.8499\n",
            "Epoch 20/100\n",
            "25/25 [==============================] - 0s 9ms/step - loss: 0.3898 - accuracy: 0.8312 - precision: 0.8224 - recall: 0.8449 - val_loss: 0.6998 - val_accuracy: 0.5760 - val_precision: 0.2971 - val_recall: 0.8473\n",
            "Epoch 21/100\n",
            "25/25 [==============================] - 0s 11ms/step - loss: 0.3834 - accuracy: 0.8343 - precision: 0.8249 - recall: 0.8486 - val_loss: 0.7229 - val_accuracy: 0.5615 - val_precision: 0.2910 - val_recall: 0.8575\n",
            "Epoch 22/100\n",
            "25/25 [==============================] - 0s 11ms/step - loss: 0.3770 - accuracy: 0.8378 - precision: 0.8252 - recall: 0.8571 - val_loss: 0.7235 - val_accuracy: 0.5635 - val_precision: 0.2920 - val_recall: 0.8575\n",
            "Epoch 23/100\n",
            "25/25 [==============================] - 0s 8ms/step - loss: 0.3713 - accuracy: 0.8406 - precision: 0.8289 - recall: 0.8584 - val_loss: 0.7235 - val_accuracy: 0.5645 - val_precision: 0.2922 - val_recall: 0.8550\n",
            "Epoch 24/100\n",
            "25/25 [==============================] - 0s 9ms/step - loss: 0.3658 - accuracy: 0.8431 - precision: 0.8319 - recall: 0.8601 - val_loss: 0.7356 - val_accuracy: 0.5570 - val_precision: 0.2891 - val_recall: 0.8601\n",
            "Epoch 25/100\n",
            "25/25 [==============================] - 0s 9ms/step - loss: 0.3597 - accuracy: 0.8468 - precision: 0.8372 - recall: 0.8609 - val_loss: 0.7508 - val_accuracy: 0.5470 - val_precision: 0.2850 - val_recall: 0.8651\n",
            "Epoch 26/100\n",
            "25/25 [==============================] - 0s 9ms/step - loss: 0.3541 - accuracy: 0.8515 - precision: 0.8382 - recall: 0.8711 - val_loss: 0.7696 - val_accuracy: 0.5365 - val_precision: 0.2808 - val_recall: 0.8702\n",
            "Epoch 27/100\n",
            "25/25 [==============================] - 0s 9ms/step - loss: 0.3484 - accuracy: 0.8528 - precision: 0.8382 - recall: 0.8744 - val_loss: 0.7686 - val_accuracy: 0.5400 - val_precision: 0.2828 - val_recall: 0.8728\n",
            "Epoch 28/100\n",
            "25/25 [==============================] - 0s 9ms/step - loss: 0.3438 - accuracy: 0.8550 - precision: 0.8441 - recall: 0.8708 - val_loss: 0.7678 - val_accuracy: 0.5455 - val_precision: 0.2846 - val_recall: 0.8677\n",
            "Epoch 29/100\n",
            "25/25 [==============================] - 0s 10ms/step - loss: 0.3389 - accuracy: 0.8582 - precision: 0.8451 - recall: 0.8771 - val_loss: 0.7892 - val_accuracy: 0.5305 - val_precision: 0.2780 - val_recall: 0.8702\n",
            "Epoch 30/100\n",
            "25/25 [==============================] - 0s 10ms/step - loss: 0.3340 - accuracy: 0.8604 - precision: 0.8478 - recall: 0.8787 - val_loss: 0.7920 - val_accuracy: 0.5325 - val_precision: 0.2790 - val_recall: 0.8702\n",
            "Epoch 31/100\n",
            "25/25 [==============================] - 0s 10ms/step - loss: 0.3291 - accuracy: 0.8642 - precision: 0.8510 - recall: 0.8831 - val_loss: 0.8052 - val_accuracy: 0.5290 - val_precision: 0.2777 - val_recall: 0.8728\n",
            "Epoch 32/100\n",
            "25/25 [==============================] - 0s 9ms/step - loss: 0.3247 - accuracy: 0.8645 - precision: 0.8496 - recall: 0.8858 - val_loss: 0.8090 - val_accuracy: 0.5300 - val_precision: 0.2778 - val_recall: 0.8702\n",
            "Epoch 33/100\n",
            "25/25 [==============================] - 0s 12ms/step - loss: 0.3202 - accuracy: 0.8667 - precision: 0.8524 - recall: 0.8869 - val_loss: 0.8257 - val_accuracy: 0.5200 - val_precision: 0.2734 - val_recall: 0.8702\n",
            "Epoch 34/100\n",
            "25/25 [==============================] - 0s 11ms/step - loss: 0.3157 - accuracy: 0.8700 - precision: 0.8560 - recall: 0.8897 - val_loss: 0.8401 - val_accuracy: 0.5180 - val_precision: 0.2732 - val_recall: 0.8753\n",
            "Epoch 35/100\n",
            "25/25 [==============================] - 0s 12ms/step - loss: 0.3120 - accuracy: 0.8726 - precision: 0.8575 - recall: 0.8936 - val_loss: 0.8612 - val_accuracy: 0.5050 - val_precision: 0.2677 - val_recall: 0.8753\n",
            "Epoch 36/100\n",
            "25/25 [==============================] - 0s 10ms/step - loss: 0.3075 - accuracy: 0.8752 - precision: 0.8622 - recall: 0.8930 - val_loss: 0.8432 - val_accuracy: 0.5255 - val_precision: 0.2751 - val_recall: 0.8651\n",
            "Epoch 37/100\n",
            "25/25 [==============================] - 0s 9ms/step - loss: 0.3036 - accuracy: 0.8774 - precision: 0.8630 - recall: 0.8973 - val_loss: 0.8623 - val_accuracy: 0.5100 - val_precision: 0.2691 - val_recall: 0.8702\n",
            "Epoch 38/100\n",
            "25/25 [==============================] - 0s 9ms/step - loss: 0.2996 - accuracy: 0.8785 - precision: 0.8668 - recall: 0.8946 - val_loss: 0.8550 - val_accuracy: 0.5225 - val_precision: 0.2734 - val_recall: 0.8626\n",
            "Epoch 39/100\n",
            "25/25 [==============================] - 0s 13ms/step - loss: 0.2958 - accuracy: 0.8812 - precision: 0.8681 - recall: 0.8990 - val_loss: 0.8760 - val_accuracy: 0.5090 - val_precision: 0.2683 - val_recall: 0.8677\n",
            "Epoch 40/100\n",
            "25/25 [==============================] - 0s 8ms/step - loss: 0.2920 - accuracy: 0.8829 - precision: 0.8682 - recall: 0.9029 - val_loss: 0.8773 - val_accuracy: 0.5125 - val_precision: 0.2683 - val_recall: 0.8575\n",
            "Epoch 41/100\n",
            "25/25 [==============================] - 0s 10ms/step - loss: 0.2881 - accuracy: 0.8842 - precision: 0.8719 - recall: 0.9007 - val_loss: 0.8767 - val_accuracy: 0.5140 - val_precision: 0.2690 - val_recall: 0.8575\n",
            "Epoch 42/100\n",
            "25/25 [==============================] - 0s 14ms/step - loss: 0.2845 - accuracy: 0.8870 - precision: 0.8732 - recall: 0.9054 - val_loss: 0.9080 - val_accuracy: 0.5055 - val_precision: 0.2661 - val_recall: 0.8626\n",
            "Epoch 43/100\n",
            "25/25 [==============================] - 0s 13ms/step - loss: 0.2810 - accuracy: 0.8874 - precision: 0.8750 - recall: 0.9039 - val_loss: 0.9098 - val_accuracy: 0.5070 - val_precision: 0.2675 - val_recall: 0.8677\n",
            "Epoch 44/100\n",
            "25/25 [==============================] - 0s 9ms/step - loss: 0.2777 - accuracy: 0.8900 - precision: 0.8766 - recall: 0.9078 - val_loss: 0.9325 - val_accuracy: 0.4985 - val_precision: 0.2632 - val_recall: 0.8626\n",
            "Epoch 45/100\n",
            "25/25 [==============================] - 0s 9ms/step - loss: 0.2738 - accuracy: 0.8909 - precision: 0.8778 - recall: 0.9083 - val_loss: 0.9101 - val_accuracy: 0.5090 - val_precision: 0.2672 - val_recall: 0.8601\n",
            "Epoch 46/100\n",
            "25/25 [==============================] - 0s 13ms/step - loss: 0.2706 - accuracy: 0.8936 - precision: 0.8803 - recall: 0.9110 - val_loss: 0.9085 - val_accuracy: 0.5120 - val_precision: 0.2685 - val_recall: 0.8601\n",
            "Epoch 47/100\n",
            "25/25 [==============================] - 0s 11ms/step - loss: 0.2678 - accuracy: 0.8950 - precision: 0.8832 - recall: 0.9103 - val_loss: 0.9376 - val_accuracy: 0.5020 - val_precision: 0.2646 - val_recall: 0.8626\n",
            "Epoch 48/100\n",
            "25/25 [==============================] - 0s 13ms/step - loss: 0.2640 - accuracy: 0.8959 - precision: 0.8825 - recall: 0.9135 - val_loss: 0.9293 - val_accuracy: 0.5115 - val_precision: 0.2679 - val_recall: 0.8575\n",
            "Epoch 49/100\n",
            "25/25 [==============================] - 0s 9ms/step - loss: 0.2607 - accuracy: 0.8984 - precision: 0.8858 - recall: 0.9149 - val_loss: 0.9447 - val_accuracy: 0.5040 - val_precision: 0.2651 - val_recall: 0.8601\n",
            "Epoch 50/100\n",
            "25/25 [==============================] - 0s 8ms/step - loss: 0.2579 - accuracy: 0.8999 - precision: 0.8866 - recall: 0.9172 - val_loss: 0.9549 - val_accuracy: 0.5000 - val_precision: 0.2634 - val_recall: 0.8601\n",
            "Epoch 51/100\n",
            "25/25 [==============================] - 0s 10ms/step - loss: 0.2549 - accuracy: 0.9012 - precision: 0.8887 - recall: 0.9172 - val_loss: 0.9631 - val_accuracy: 0.4990 - val_precision: 0.2630 - val_recall: 0.8601\n",
            "Epoch 52/100\n",
            "25/25 [==============================] - 0s 8ms/step - loss: 0.2520 - accuracy: 0.9028 - precision: 0.8881 - recall: 0.9216 - val_loss: 0.9696 - val_accuracy: 0.5015 - val_precision: 0.2637 - val_recall: 0.8575\n",
            "Epoch 53/100\n",
            "25/25 [==============================] - 0s 11ms/step - loss: 0.2484 - accuracy: 0.9048 - precision: 0.8915 - recall: 0.9218 - val_loss: 0.9482 - val_accuracy: 0.5120 - val_precision: 0.2677 - val_recall: 0.8550\n",
            "Epoch 54/100\n",
            "25/25 [==============================] - 0s 12ms/step - loss: 0.2462 - accuracy: 0.9051 - precision: 0.8918 - recall: 0.9221 - val_loss: 0.9424 - val_accuracy: 0.5210 - val_precision: 0.2716 - val_recall: 0.8550\n",
            "Epoch 55/100\n",
            "25/25 [==============================] - 0s 14ms/step - loss: 0.2425 - accuracy: 0.9082 - precision: 0.8963 - recall: 0.9232 - val_loss: 0.9947 - val_accuracy: 0.4995 - val_precision: 0.2640 - val_recall: 0.8651\n",
            "Epoch 56/100\n",
            "25/25 [==============================] - 0s 11ms/step - loss: 0.2401 - accuracy: 0.9093 - precision: 0.8942 - recall: 0.9284 - val_loss: 0.9715 - val_accuracy: 0.5090 - val_precision: 0.2668 - val_recall: 0.8575\n",
            "Epoch 57/100\n",
            "25/25 [==============================] - 0s 9ms/step - loss: 0.2373 - accuracy: 0.9102 - precision: 0.8963 - recall: 0.9278 - val_loss: 0.9735 - val_accuracy: 0.5165 - val_precision: 0.2700 - val_recall: 0.8575\n",
            "Epoch 58/100\n",
            "25/25 [==============================] - 0s 10ms/step - loss: 0.2350 - accuracy: 0.9110 - precision: 0.8975 - recall: 0.9281 - val_loss: 0.9891 - val_accuracy: 0.5040 - val_precision: 0.2644 - val_recall: 0.8550\n",
            "Epoch 59/100\n",
            "25/25 [==============================] - 0s 12ms/step - loss: 0.2331 - accuracy: 0.9128 - precision: 0.8982 - recall: 0.9311 - val_loss: 0.9925 - val_accuracy: 0.5080 - val_precision: 0.2660 - val_recall: 0.8550\n",
            "Epoch 60/100\n",
            "25/25 [==============================] - 0s 10ms/step - loss: 0.2296 - accuracy: 0.9128 - precision: 0.8979 - recall: 0.9316 - val_loss: 1.0002 - val_accuracy: 0.5020 - val_precision: 0.2632 - val_recall: 0.8524\n",
            "Epoch 61/100\n",
            "25/25 [==============================] - 0s 11ms/step - loss: 0.2271 - accuracy: 0.9166 - precision: 0.9027 - recall: 0.9339 - val_loss: 0.9870 - val_accuracy: 0.5145 - val_precision: 0.2684 - val_recall: 0.8524\n",
            "Epoch 62/100\n",
            "25/25 [==============================] - 0s 10ms/step - loss: 0.2247 - accuracy: 0.9158 - precision: 0.9027 - recall: 0.9322 - val_loss: 0.9981 - val_accuracy: 0.5125 - val_precision: 0.2672 - val_recall: 0.8499\n",
            "Epoch 63/100\n",
            "25/25 [==============================] - 0s 10ms/step - loss: 0.2218 - accuracy: 0.9174 - precision: 0.9031 - recall: 0.9352 - val_loss: 1.0173 - val_accuracy: 0.5065 - val_precision: 0.2654 - val_recall: 0.8550\n",
            "Epoch 64/100\n",
            "25/25 [==============================] - 0s 9ms/step - loss: 0.2198 - accuracy: 0.9201 - precision: 0.9054 - recall: 0.9382 - val_loss: 0.9682 - val_accuracy: 0.5285 - val_precision: 0.2727 - val_recall: 0.8397\n",
            "Epoch 65/100\n",
            "25/25 [==============================] - 0s 14ms/step - loss: 0.2173 - accuracy: 0.9211 - precision: 0.9103 - recall: 0.9342 - val_loss: 1.0589 - val_accuracy: 0.4945 - val_precision: 0.2605 - val_recall: 0.8550\n",
            "Epoch 66/100\n",
            "25/25 [==============================] - 0s 11ms/step - loss: 0.2172 - accuracy: 0.9189 - precision: 0.9036 - recall: 0.9379 - val_loss: 0.9879 - val_accuracy: 0.5280 - val_precision: 0.2740 - val_recall: 0.8499\n",
            "Epoch 67/100\n",
            "25/25 [==============================] - 0s 8ms/step - loss: 0.2148 - accuracy: 0.9207 - precision: 0.9091 - recall: 0.9349 - val_loss: 1.0574 - val_accuracy: 0.5000 - val_precision: 0.2627 - val_recall: 0.8550\n",
            "Epoch 68/100\n",
            "25/25 [==============================] - 0s 10ms/step - loss: 0.2131 - accuracy: 0.9207 - precision: 0.9068 - recall: 0.9379 - val_loss: 0.9923 - val_accuracy: 0.5330 - val_precision: 0.2763 - val_recall: 0.8499\n",
            "Epoch 69/100\n",
            "25/25 [==============================] - 0s 9ms/step - loss: 0.2094 - accuracy: 0.9245 - precision: 0.9118 - recall: 0.9399 - val_loss: 1.0256 - val_accuracy: 0.5215 - val_precision: 0.2711 - val_recall: 0.8499\n",
            "Epoch 70/100\n",
            "25/25 [==============================] - 0s 10ms/step - loss: 0.2076 - accuracy: 0.9249 - precision: 0.9121 - recall: 0.9404 - val_loss: 1.0557 - val_accuracy: 0.5105 - val_precision: 0.2671 - val_recall: 0.8550\n",
            "Epoch 71/100\n",
            "25/25 [==============================] - 0s 10ms/step - loss: 0.2047 - accuracy: 0.9275 - precision: 0.9147 - recall: 0.9429 - val_loss: 1.0238 - val_accuracy: 0.5260 - val_precision: 0.2731 - val_recall: 0.8499\n",
            "Epoch 72/100\n",
            "25/25 [==============================] - 0s 9ms/step - loss: 0.2026 - accuracy: 0.9275 - precision: 0.9146 - recall: 0.9430 - val_loss: 1.0478 - val_accuracy: 0.5125 - val_precision: 0.2676 - val_recall: 0.8524\n",
            "Epoch 73/100\n",
            "25/25 [==============================] - 0s 5ms/step - loss: 0.2006 - accuracy: 0.9279 - precision: 0.9168 - recall: 0.9413 - val_loss: 1.0201 - val_accuracy: 0.5285 - val_precision: 0.2731 - val_recall: 0.8422\n",
            "Epoch 74/100\n",
            "25/25 [==============================] - 0s 5ms/step - loss: 0.1992 - accuracy: 0.9294 - precision: 0.9165 - recall: 0.9448 - val_loss: 1.0596 - val_accuracy: 0.5175 - val_precision: 0.2694 - val_recall: 0.8499\n",
            "Epoch 75/100\n",
            "25/25 [==============================] - 0s 5ms/step - loss: 0.1968 - accuracy: 0.9298 - precision: 0.9175 - recall: 0.9445 - val_loss: 1.0637 - val_accuracy: 0.5170 - val_precision: 0.2688 - val_recall: 0.8473\n",
            "Epoch 76/100\n",
            "25/25 [==============================] - 0s 5ms/step - loss: 0.1948 - accuracy: 0.9305 - precision: 0.9193 - recall: 0.9440 - val_loss: 1.0385 - val_accuracy: 0.5295 - val_precision: 0.2728 - val_recall: 0.8372\n",
            "Epoch 77/100\n",
            "25/25 [==============================] - 0s 5ms/step - loss: 0.1937 - accuracy: 0.9307 - precision: 0.9174 - recall: 0.9467 - val_loss: 1.0492 - val_accuracy: 0.5230 - val_precision: 0.2706 - val_recall: 0.8422\n",
            "Epoch 78/100\n",
            "25/25 [==============================] - 0s 5ms/step - loss: 0.1921 - accuracy: 0.9320 - precision: 0.9191 - recall: 0.9475 - val_loss: 1.0433 - val_accuracy: 0.5280 - val_precision: 0.2714 - val_recall: 0.8321\n",
            "Epoch 79/100\n",
            "25/25 [==============================] - 0s 6ms/step - loss: 0.1906 - accuracy: 0.9320 - precision: 0.9226 - recall: 0.9432 - val_loss: 1.0726 - val_accuracy: 0.5195 - val_precision: 0.2691 - val_recall: 0.8422\n",
            "Epoch 80/100\n",
            "25/25 [==============================] - 0s 6ms/step - loss: 0.1891 - accuracy: 0.9330 - precision: 0.9184 - recall: 0.9504 - val_loss: 1.0374 - val_accuracy: 0.5325 - val_precision: 0.2730 - val_recall: 0.8295\n",
            "Epoch 81/100\n",
            "25/25 [==============================] - 0s 5ms/step - loss: 0.1869 - accuracy: 0.9344 - precision: 0.9242 - recall: 0.9463 - val_loss: 1.0603 - val_accuracy: 0.5240 - val_precision: 0.2696 - val_recall: 0.8321\n",
            "Epoch 82/100\n",
            "25/25 [==============================] - 0s 5ms/step - loss: 0.1847 - accuracy: 0.9357 - precision: 0.9247 - recall: 0.9487 - val_loss: 1.0514 - val_accuracy: 0.5295 - val_precision: 0.2717 - val_recall: 0.8295\n",
            "Epoch 83/100\n",
            "25/25 [==============================] - 0s 5ms/step - loss: 0.1827 - accuracy: 0.9365 - precision: 0.9244 - recall: 0.9508 - val_loss: 1.0723 - val_accuracy: 0.5265 - val_precision: 0.2715 - val_recall: 0.8372\n",
            "Epoch 84/100\n",
            "25/25 [==============================] - 0s 5ms/step - loss: 0.1808 - accuracy: 0.9368 - precision: 0.9259 - recall: 0.9497 - val_loss: 1.0710 - val_accuracy: 0.5270 - val_precision: 0.2713 - val_recall: 0.8346\n",
            "Epoch 85/100\n",
            "25/25 [==============================] - 0s 5ms/step - loss: 0.1798 - accuracy: 0.9367 - precision: 0.9252 - recall: 0.9501 - val_loss: 1.0772 - val_accuracy: 0.5225 - val_precision: 0.2693 - val_recall: 0.8346\n",
            "Epoch 86/100\n",
            "25/25 [==============================] - 0s 5ms/step - loss: 0.1784 - accuracy: 0.9384 - precision: 0.9293 - recall: 0.9490 - val_loss: 1.0814 - val_accuracy: 0.5290 - val_precision: 0.2718 - val_recall: 0.8321\n",
            "Epoch 87/100\n",
            "25/25 [==============================] - 0s 5ms/step - loss: 0.1762 - accuracy: 0.9393 - precision: 0.9282 - recall: 0.9522 - val_loss: 1.0892 - val_accuracy: 0.5270 - val_precision: 0.2709 - val_recall: 0.8321\n",
            "Epoch 88/100\n",
            "25/25 [==============================] - 0s 5ms/step - loss: 0.1746 - accuracy: 0.9411 - precision: 0.9299 - recall: 0.9541 - val_loss: 1.1105 - val_accuracy: 0.5215 - val_precision: 0.2696 - val_recall: 0.8397\n",
            "Epoch 89/100\n",
            "25/25 [==============================] - 0s 5ms/step - loss: 0.1730 - accuracy: 0.9409 - precision: 0.9304 - recall: 0.9531 - val_loss: 1.0603 - val_accuracy: 0.5380 - val_precision: 0.2752 - val_recall: 0.8270\n",
            "Epoch 90/100\n",
            "25/25 [==============================] - 0s 5ms/step - loss: 0.1715 - accuracy: 0.9411 - precision: 0.9308 - recall: 0.9530 - val_loss: 1.1047 - val_accuracy: 0.5290 - val_precision: 0.2722 - val_recall: 0.8346\n",
            "Epoch 91/100\n",
            "25/25 [==============================] - 0s 5ms/step - loss: 0.1701 - accuracy: 0.9419 - precision: 0.9315 - recall: 0.9541 - val_loss: 1.1033 - val_accuracy: 0.5275 - val_precision: 0.2719 - val_recall: 0.8372\n",
            "Epoch 92/100\n",
            "25/25 [==============================] - 0s 5ms/step - loss: 0.1683 - accuracy: 0.9423 - precision: 0.9302 - recall: 0.9564 - val_loss: 1.0472 - val_accuracy: 0.5415 - val_precision: 0.2765 - val_recall: 0.8244\n",
            "Epoch 93/100\n",
            "25/25 [==============================] - 0s 5ms/step - loss: 0.1674 - accuracy: 0.9421 - precision: 0.9327 - recall: 0.9530 - val_loss: 1.0959 - val_accuracy: 0.5355 - val_precision: 0.2755 - val_recall: 0.8372\n",
            "Epoch 94/100\n",
            "25/25 [==============================] - 0s 5ms/step - loss: 0.1654 - accuracy: 0.9449 - precision: 0.9344 - recall: 0.9570 - val_loss: 1.0830 - val_accuracy: 0.5410 - val_precision: 0.2766 - val_recall: 0.8270\n",
            "Epoch 95/100\n",
            "25/25 [==============================] - 0s 6ms/step - loss: 0.1639 - accuracy: 0.9449 - precision: 0.9351 - recall: 0.9561 - val_loss: 1.1011 - val_accuracy: 0.5355 - val_precision: 0.2752 - val_recall: 0.8346\n",
            "Epoch 96/100\n",
            "25/25 [==============================] - 0s 6ms/step - loss: 0.1626 - accuracy: 0.9449 - precision: 0.9365 - recall: 0.9544 - val_loss: 1.1256 - val_accuracy: 0.5295 - val_precision: 0.2724 - val_recall: 0.8346\n",
            "Epoch 97/100\n",
            "25/25 [==============================] - 0s 5ms/step - loss: 0.1627 - accuracy: 0.9453 - precision: 0.9339 - recall: 0.9585 - val_loss: 1.0735 - val_accuracy: 0.5410 - val_precision: 0.2747 - val_recall: 0.8142\n",
            "Epoch 98/100\n",
            "25/25 [==============================] - 0s 5ms/step - loss: 0.1603 - accuracy: 0.9459 - precision: 0.9357 - recall: 0.9575 - val_loss: 1.1153 - val_accuracy: 0.5355 - val_precision: 0.2744 - val_recall: 0.8295\n",
            "Epoch 99/100\n",
            "25/25 [==============================] - 0s 5ms/step - loss: 0.1587 - accuracy: 0.9482 - precision: 0.9386 - recall: 0.9593 - val_loss: 1.1130 - val_accuracy: 0.5365 - val_precision: 0.2753 - val_recall: 0.8321\n",
            "Epoch 100/100\n",
            "25/25 [==============================] - 0s 5ms/step - loss: 0.1573 - accuracy: 0.9462 - precision: 0.9363 - recall: 0.9575 - val_loss: 1.1158 - val_accuracy: 0.5370 - val_precision: 0.2759 - val_recall: 0.8346\n"
          ]
        }
      ]
    },
    {
      "cell_type": "code",
      "source": [
        "def visualizer(history_object, parameters):\n",
        "  plt.figure(figsize= (15,10))\n",
        "\n",
        "  train_parameter = history_object.history.get(parameters)\n",
        "  validation_parameter = history_object.history.get(f'val_{parameters}')\n",
        "  epochs = history_object.epoch\n",
        "\n",
        "  sns.lineplot(x=epochs, y=train_parameter)\n",
        "  sns.lineplot(x=epochs, y=validation_parameter)\n",
        "\n",
        "  plt.legend(labels = [train_parameter, validation_parameter])\n",
        "  plt.xticks(ticks = epochs, labels = epochs, rotation = 90)\n",
        "  plt.yticks(ticks = [i/100 for i in range(10, 110, 10)], labels = [i/100 for i in range(10, 110, 10)])"
      ],
      "metadata": {
        "id": "8x_uiAhXZAFI"
      },
      "execution_count": null,
      "outputs": []
    },
    {
      "cell_type": "code",
      "source": [
        "visualizer(history_obj, 'accuracy')"
      ],
      "metadata": {
        "colab": {
          "base_uri": "https://localhost:8080/",
          "height": 618
        },
        "id": "hYsMl-citBjd",
        "outputId": "c1b6403c-88b8-4585-b607-1c055a484494"
      },
      "execution_count": null,
      "outputs": [
        {
          "output_type": "display_data",
          "data": {
            "text/plain": [
              "<Figure size 1080x720 with 1 Axes>"
            ],
            "image/png": "[encoded data removed]"
          },
          "metadata": {
            "needs_background": "light"
          }
        }
      ]
    },
    {
      "cell_type": "code",
      "source": [
        "early_stopper = EarlyStopping(monitor = 'accuracy', patience= 10)"
      ],
      "metadata": {
        "id": "KQ9ErNI-ZIwB"
      },
      "execution_count": null,
      "outputs": []
    },
    {
      "cell_type": "code",
      "source": [
        "history_obj_2 = model.fit(x = X_train, y = y_train, batch_size = 512, epochs = 100,\n",
        "                            validation_data = (X_test, y_test), validation_batch_size = 512,\n",
        "                            use_multiprocessing = True, workers = 40, callbacks = early_stopper)"
      ],
      "metadata": {
        "colab": {
          "base_uri": "https://localhost:8080/"
        },
        "id": "mBvrQi0NaFpZ",
        "outputId": "ba2e44bf-c989-4909-dca1-e6cf8f87967b"
      },
      "execution_count": null,
      "outputs": [
        {
          "output_type": "stream",
          "name": "stdout",
          "text": [
            "Epoch 1/100\n",
            "25/25 [==============================] - 0s 6ms/step - loss: 0.1556 - accuracy: 0.9478 - precision: 0.9383 - recall: 0.9588 - val_loss: 1.0996 - val_accuracy: 0.5390 - val_precision: 0.2749 - val_recall: 0.8219\n",
            "Epoch 2/100\n",
            "25/25 [==============================] - 0s 5ms/step - loss: 0.1546 - accuracy: 0.9492 - precision: 0.9386 - recall: 0.9613 - val_loss: 1.0985 - val_accuracy: 0.5435 - val_precision: 0.2762 - val_recall: 0.8168\n",
            "Epoch 3/100\n",
            "25/25 [==============================] - 0s 5ms/step - loss: 0.1535 - accuracy: 0.9493 - precision: 0.9401 - recall: 0.9597 - val_loss: 1.1756 - val_accuracy: 0.5250 - val_precision: 0.2708 - val_recall: 0.8372\n",
            "Epoch 4/100\n",
            "25/25 [==============================] - 0s 5ms/step - loss: 0.1525 - accuracy: 0.9508 - precision: 0.9389 - recall: 0.9644 - val_loss: 1.1127 - val_accuracy: 0.5420 - val_precision: 0.2763 - val_recall: 0.8219\n",
            "Epoch 5/100\n",
            "25/25 [==============================] - 0s 5ms/step - loss: 0.1512 - accuracy: 0.9503 - precision: 0.9394 - recall: 0.9627 - val_loss: 1.1143 - val_accuracy: 0.5405 - val_precision: 0.2748 - val_recall: 0.8168\n",
            "Epoch 6/100\n",
            "25/25 [==============================] - 0s 5ms/step - loss: 0.1493 - accuracy: 0.9520 - precision: 0.9419 - recall: 0.9635 - val_loss: 1.1361 - val_accuracy: 0.5410 - val_precision: 0.2766 - val_recall: 0.8270\n",
            "Epoch 7/100\n",
            "25/25 [==============================] - 0s 5ms/step - loss: 0.1485 - accuracy: 0.9511 - precision: 0.9418 - recall: 0.9618 - val_loss: 1.1226 - val_accuracy: 0.5460 - val_precision: 0.2782 - val_recall: 0.8219\n",
            "Epoch 8/100\n",
            "25/25 [==============================] - 0s 5ms/step - loss: 0.1468 - accuracy: 0.9530 - precision: 0.9416 - recall: 0.9659 - val_loss: 1.1380 - val_accuracy: 0.5395 - val_precision: 0.2755 - val_recall: 0.8244\n",
            "Epoch 9/100\n",
            "25/25 [==============================] - 0s 5ms/step - loss: 0.1455 - accuracy: 0.9526 - precision: 0.9438 - recall: 0.9626 - val_loss: 1.1251 - val_accuracy: 0.5455 - val_precision: 0.2780 - val_recall: 0.8219\n",
            "Epoch 10/100\n",
            "25/25 [==============================] - 0s 5ms/step - loss: 0.1444 - accuracy: 0.9531 - precision: 0.9424 - recall: 0.9652 - val_loss: 1.1427 - val_accuracy: 0.5405 - val_precision: 0.2752 - val_recall: 0.8193\n",
            "Epoch 11/100\n",
            "25/25 [==============================] - 0s 6ms/step - loss: 0.1439 - accuracy: 0.9543 - precision: 0.9473 - recall: 0.9621 - val_loss: 1.1793 - val_accuracy: 0.5345 - val_precision: 0.2739 - val_recall: 0.8295\n",
            "Epoch 12/100\n",
            "25/25 [==============================] - 0s 6ms/step - loss: 0.1444 - accuracy: 0.9519 - precision: 0.9410 - recall: 0.9643 - val_loss: 1.1039 - val_accuracy: 0.5570 - val_precision: 0.2821 - val_recall: 0.8117\n",
            "Epoch 13/100\n",
            "25/25 [==============================] - 0s 5ms/step - loss: 0.1417 - accuracy: 0.9539 - precision: 0.9440 - recall: 0.9651 - val_loss: 1.1626 - val_accuracy: 0.5375 - val_precision: 0.2742 - val_recall: 0.8219\n",
            "Epoch 14/100\n",
            "25/25 [==============================] - 0s 5ms/step - loss: 0.1414 - accuracy: 0.9540 - precision: 0.9459 - recall: 0.9630 - val_loss: 1.2073 - val_accuracy: 0.5310 - val_precision: 0.2727 - val_recall: 0.8321\n",
            "Epoch 15/100\n",
            "25/25 [==============================] - 0s 6ms/step - loss: 0.1391 - accuracy: 0.9552 - precision: 0.9462 - recall: 0.9654 - val_loss: 1.1263 - val_accuracy: 0.5490 - val_precision: 0.2785 - val_recall: 0.8142\n",
            "Epoch 16/100\n",
            "25/25 [==============================] - 0s 5ms/step - loss: 0.1378 - accuracy: 0.9566 - precision: 0.9476 - recall: 0.9666 - val_loss: 1.1596 - val_accuracy: 0.5435 - val_precision: 0.2766 - val_recall: 0.8193\n",
            "Epoch 17/100\n",
            "25/25 [==============================] - 0s 5ms/step - loss: 0.1364 - accuracy: 0.9571 - precision: 0.9476 - recall: 0.9677 - val_loss: 1.1748 - val_accuracy: 0.5420 - val_precision: 0.2763 - val_recall: 0.8219\n",
            "Epoch 18/100\n",
            "25/25 [==============================] - 0s 6ms/step - loss: 0.1353 - accuracy: 0.9581 - precision: 0.9499 - recall: 0.9673 - val_loss: 1.1961 - val_accuracy: 0.5375 - val_precision: 0.2742 - val_recall: 0.8219\n",
            "Epoch 19/100\n",
            "25/25 [==============================] - 0s 6ms/step - loss: 0.1341 - accuracy: 0.9576 - precision: 0.9485 - recall: 0.9677 - val_loss: 1.1704 - val_accuracy: 0.5500 - val_precision: 0.2801 - val_recall: 0.8219\n",
            "Epoch 20/100\n",
            "25/25 [==============================] - 0s 6ms/step - loss: 0.1328 - accuracy: 0.9592 - precision: 0.9492 - recall: 0.9703 - val_loss: 1.1565 - val_accuracy: 0.5480 - val_precision: 0.2780 - val_recall: 0.8142\n",
            "Epoch 21/100\n",
            "25/25 [==============================] - 0s 5ms/step - loss: 0.1320 - accuracy: 0.9596 - precision: 0.9513 - recall: 0.9687 - val_loss: 1.1981 - val_accuracy: 0.5410 - val_precision: 0.2758 - val_recall: 0.8219\n",
            "Epoch 22/100\n",
            "25/25 [==============================] - 0s 5ms/step - loss: 0.1305 - accuracy: 0.9598 - precision: 0.9508 - recall: 0.9698 - val_loss: 1.1638 - val_accuracy: 0.5485 - val_precision: 0.2783 - val_recall: 0.8142\n",
            "Epoch 23/100\n",
            "25/25 [==============================] - 0s 5ms/step - loss: 0.1296 - accuracy: 0.9608 - precision: 0.9528 - recall: 0.9696 - val_loss: 1.2066 - val_accuracy: 0.5385 - val_precision: 0.2743 - val_recall: 0.8193\n",
            "Epoch 24/100\n",
            "25/25 [==============================] - 0s 6ms/step - loss: 0.1284 - accuracy: 0.9611 - precision: 0.9523 - recall: 0.9709 - val_loss: 1.1517 - val_accuracy: 0.5560 - val_precision: 0.2812 - val_recall: 0.8092\n",
            "Epoch 25/100\n",
            "25/25 [==============================] - 0s 5ms/step - loss: 0.1279 - accuracy: 0.9617 - precision: 0.9538 - recall: 0.9704 - val_loss: 1.1894 - val_accuracy: 0.5465 - val_precision: 0.2777 - val_recall: 0.8168\n",
            "Epoch 26/100\n",
            "25/25 [==============================] - 0s 5ms/step - loss: 0.1269 - accuracy: 0.9610 - precision: 0.9520 - recall: 0.9709 - val_loss: 1.1874 - val_accuracy: 0.5465 - val_precision: 0.2777 - val_recall: 0.8168\n",
            "Epoch 27/100\n",
            "25/25 [==============================] - 0s 6ms/step - loss: 0.1260 - accuracy: 0.9617 - precision: 0.9533 - recall: 0.9709 - val_loss: 1.1489 - val_accuracy: 0.5600 - val_precision: 0.2836 - val_recall: 0.8117\n",
            "Epoch 28/100\n",
            "25/25 [==============================] - 0s 5ms/step - loss: 0.1255 - accuracy: 0.9628 - precision: 0.9546 - recall: 0.9718 - val_loss: 1.1722 - val_accuracy: 0.5560 - val_precision: 0.2819 - val_recall: 0.8142\n",
            "Epoch 29/100\n",
            "25/25 [==============================] - 0s 5ms/step - loss: 0.1241 - accuracy: 0.9627 - precision: 0.9560 - recall: 0.9701 - val_loss: 1.2040 - val_accuracy: 0.5475 - val_precision: 0.2785 - val_recall: 0.8193\n",
            "Epoch 30/100\n",
            "25/25 [==============================] - 0s 6ms/step - loss: 0.1221 - accuracy: 0.9638 - precision: 0.9561 - recall: 0.9723 - val_loss: 1.2230 - val_accuracy: 0.5410 - val_precision: 0.2754 - val_recall: 0.8193\n",
            "Epoch 31/100\n",
            "25/25 [==============================] - 0s 5ms/step - loss: 0.1221 - accuracy: 0.9641 - precision: 0.9565 - recall: 0.9725 - val_loss: 1.2010 - val_accuracy: 0.5470 - val_precision: 0.2779 - val_recall: 0.8168\n",
            "Epoch 32/100\n",
            "25/25 [==============================] - 0s 5ms/step - loss: 0.1208 - accuracy: 0.9640 - precision: 0.9562 - recall: 0.9726 - val_loss: 1.1846 - val_accuracy: 0.5545 - val_precision: 0.2812 - val_recall: 0.8142\n",
            "Epoch 33/100\n",
            "25/25 [==============================] - 0s 5ms/step - loss: 0.1208 - accuracy: 0.9646 - precision: 0.9563 - recall: 0.9737 - val_loss: 1.2078 - val_accuracy: 0.5510 - val_precision: 0.2799 - val_recall: 0.8168\n",
            "Epoch 34/100\n",
            "25/25 [==============================] - 0s 5ms/step - loss: 0.1196 - accuracy: 0.9644 - precision: 0.9581 - recall: 0.9712 - val_loss: 1.2463 - val_accuracy: 0.5390 - val_precision: 0.2745 - val_recall: 0.8193\n",
            "Epoch 35/100\n",
            "25/25 [==============================] - 0s 5ms/step - loss: 0.1188 - accuracy: 0.9650 - precision: 0.9579 - recall: 0.9728 - val_loss: 1.2242 - val_accuracy: 0.5480 - val_precision: 0.2784 - val_recall: 0.8168\n",
            "Epoch 36/100\n",
            "25/25 [==============================] - 0s 5ms/step - loss: 0.1173 - accuracy: 0.9657 - precision: 0.9574 - recall: 0.9748 - val_loss: 1.2066 - val_accuracy: 0.5545 - val_precision: 0.2808 - val_recall: 0.8117\n",
            "Epoch 37/100\n",
            "25/25 [==============================] - 0s 5ms/step - loss: 0.1176 - accuracy: 0.9644 - precision: 0.9564 - recall: 0.9733 - val_loss: 1.1630 - val_accuracy: 0.5630 - val_precision: 0.2843 - val_recall: 0.8066\n",
            "Epoch 38/100\n",
            "25/25 [==============================] - 0s 5ms/step - loss: 0.1153 - accuracy: 0.9664 - precision: 0.9591 - recall: 0.9744 - val_loss: 1.2241 - val_accuracy: 0.5545 - val_precision: 0.2812 - val_recall: 0.8142\n",
            "Epoch 39/100\n",
            "25/25 [==============================] - 0s 6ms/step - loss: 0.1140 - accuracy: 0.9674 - precision: 0.9602 - recall: 0.9753 - val_loss: 1.2180 - val_accuracy: 0.5520 - val_precision: 0.2792 - val_recall: 0.8092\n",
            "Epoch 40/100\n",
            "25/25 [==============================] - 0s 5ms/step - loss: 0.1138 - accuracy: 0.9670 - precision: 0.9592 - recall: 0.9756 - val_loss: 1.2146 - val_accuracy: 0.5505 - val_precision: 0.2785 - val_recall: 0.8092\n",
            "Epoch 41/100\n",
            "25/25 [==============================] - 0s 6ms/step - loss: 0.1128 - accuracy: 0.9680 - precision: 0.9614 - recall: 0.9751 - val_loss: 1.2589 - val_accuracy: 0.5445 - val_precision: 0.2760 - val_recall: 0.8117\n",
            "Epoch 42/100\n",
            "25/25 [==============================] - 0s 5ms/step - loss: 0.1126 - accuracy: 0.9669 - precision: 0.9584 - recall: 0.9761 - val_loss: 1.2305 - val_accuracy: 0.5495 - val_precision: 0.2787 - val_recall: 0.8142\n",
            "Epoch 43/100\n",
            "25/25 [==============================] - 0s 6ms/step - loss: 0.1108 - accuracy: 0.9694 - precision: 0.9619 - recall: 0.9775 - val_loss: 1.2330 - val_accuracy: 0.5505 - val_precision: 0.2777 - val_recall: 0.8041\n",
            "Epoch 44/100\n",
            "25/25 [==============================] - 0s 7ms/step - loss: 0.1110 - accuracy: 0.9682 - precision: 0.9595 - recall: 0.9777 - val_loss: 1.2838 - val_accuracy: 0.5400 - val_precision: 0.2742 - val_recall: 0.8142\n",
            "Epoch 45/100\n",
            "25/25 [==============================] - 0s 7ms/step - loss: 0.1100 - accuracy: 0.9688 - precision: 0.9630 - recall: 0.9750 - val_loss: 1.2637 - val_accuracy: 0.5460 - val_precision: 0.2771 - val_recall: 0.8142\n",
            "Epoch 46/100\n",
            "25/25 [==============================] - 0s 7ms/step - loss: 0.1081 - accuracy: 0.9697 - precision: 0.9627 - recall: 0.9773 - val_loss: 1.2770 - val_accuracy: 0.5425 - val_precision: 0.2750 - val_recall: 0.8117\n",
            "Epoch 47/100\n",
            "25/25 [==============================] - 0s 10ms/step - loss: 0.1076 - accuracy: 0.9694 - precision: 0.9623 - recall: 0.9770 - val_loss: 1.2603 - val_accuracy: 0.5480 - val_precision: 0.2772 - val_recall: 0.8092\n",
            "Epoch 48/100\n",
            "25/25 [==============================] - 0s 5ms/step - loss: 0.1065 - accuracy: 0.9703 - precision: 0.9637 - recall: 0.9775 - val_loss: 1.2755 - val_accuracy: 0.5450 - val_precision: 0.2754 - val_recall: 0.8066\n",
            "Epoch 49/100\n",
            "25/25 [==============================] - 0s 7ms/step - loss: 0.1061 - accuracy: 0.9697 - precision: 0.9629 - recall: 0.9770 - val_loss: 1.2602 - val_accuracy: 0.5480 - val_precision: 0.2757 - val_recall: 0.7990\n",
            "Epoch 50/100\n",
            "25/25 [==============================] - 0s 7ms/step - loss: 0.1049 - accuracy: 0.9703 - precision: 0.9630 - recall: 0.9781 - val_loss: 1.2657 - val_accuracy: 0.5490 - val_precision: 0.2766 - val_recall: 0.8015\n",
            "Epoch 51/100\n",
            "25/25 [==============================] - 0s 5ms/step - loss: 0.1041 - accuracy: 0.9718 - precision: 0.9657 - recall: 0.9783 - val_loss: 1.2942 - val_accuracy: 0.5430 - val_precision: 0.2756 - val_recall: 0.8142\n",
            "Epoch 52/100\n",
            "25/25 [==============================] - 0s 8ms/step - loss: 0.1037 - accuracy: 0.9706 - precision: 0.9636 - recall: 0.9781 - val_loss: 1.2492 - val_accuracy: 0.5535 - val_precision: 0.2776 - val_recall: 0.7939\n",
            "Epoch 53/100\n",
            "25/25 [==============================] - 0s 5ms/step - loss: 0.1027 - accuracy: 0.9722 - precision: 0.9666 - recall: 0.9781 - val_loss: 1.2913 - val_accuracy: 0.5465 - val_precision: 0.2761 - val_recall: 0.8066\n",
            "Epoch 54/100\n",
            "25/25 [==============================] - 0s 7ms/step - loss: 0.1019 - accuracy: 0.9720 - precision: 0.9651 - recall: 0.9794 - val_loss: 1.2848 - val_accuracy: 0.5475 - val_precision: 0.2770 - val_recall: 0.8092\n",
            "Epoch 55/100\n",
            "25/25 [==============================] - 0s 9ms/step - loss: 0.1008 - accuracy: 0.9716 - precision: 0.9651 - recall: 0.9786 - val_loss: 1.2597 - val_accuracy: 0.5545 - val_precision: 0.2793 - val_recall: 0.8015\n",
            "Epoch 56/100\n",
            "25/25 [==============================] - 0s 6ms/step - loss: 0.1005 - accuracy: 0.9720 - precision: 0.9657 - recall: 0.9788 - val_loss: 1.3024 - val_accuracy: 0.5475 - val_precision: 0.2754 - val_recall: 0.7990\n",
            "Epoch 57/100\n",
            "25/25 [==============================] - 0s 8ms/step - loss: 0.0997 - accuracy: 0.9718 - precision: 0.9644 - recall: 0.9797 - val_loss: 1.2841 - val_accuracy: 0.5525 - val_precision: 0.2783 - val_recall: 0.8015\n",
            "Epoch 58/100\n",
            "25/25 [==============================] - 0s 7ms/step - loss: 0.0987 - accuracy: 0.9725 - precision: 0.9653 - recall: 0.9802 - val_loss: 1.2654 - val_accuracy: 0.5565 - val_precision: 0.2791 - val_recall: 0.7939\n",
            "Epoch 59/100\n",
            "25/25 [==============================] - 0s 5ms/step - loss: 0.0982 - accuracy: 0.9718 - precision: 0.9657 - recall: 0.9784 - val_loss: 1.2917 - val_accuracy: 0.5495 - val_precision: 0.2760 - val_recall: 0.7964\n",
            "Epoch 60/100\n",
            "25/25 [==============================] - 0s 10ms/step - loss: 0.0980 - accuracy: 0.9720 - precision: 0.9651 - recall: 0.9794 - val_loss: 1.3311 - val_accuracy: 0.5435 - val_precision: 0.2751 - val_recall: 0.8092\n",
            "Epoch 61/100\n",
            "25/25 [==============================] - 0s 5ms/step - loss: 0.0984 - accuracy: 0.9730 - precision: 0.9674 - recall: 0.9791 - val_loss: 1.3398 - val_accuracy: 0.5395 - val_precision: 0.2724 - val_recall: 0.8041\n",
            "Epoch 62/100\n",
            "25/25 [==============================] - 0s 8ms/step - loss: 0.0965 - accuracy: 0.9729 - precision: 0.9672 - recall: 0.9789 - val_loss: 1.3149 - val_accuracy: 0.5485 - val_precision: 0.2759 - val_recall: 0.7990\n",
            "Epoch 63/100\n",
            "25/25 [==============================] - 0s 10ms/step - loss: 0.0948 - accuracy: 0.9745 - precision: 0.9688 - recall: 0.9806 - val_loss: 1.3296 - val_accuracy: 0.5420 - val_precision: 0.2732 - val_recall: 0.8015\n",
            "Epoch 64/100\n",
            "25/25 [==============================] - 0s 14ms/step - loss: 0.0941 - accuracy: 0.9741 - precision: 0.9679 - recall: 0.9808 - val_loss: 1.2992 - val_accuracy: 0.5550 - val_precision: 0.2779 - val_recall: 0.7913\n",
            "Epoch 65/100\n",
            "25/25 [==============================] - 0s 13ms/step - loss: 0.0935 - accuracy: 0.9747 - precision: 0.9694 - recall: 0.9805 - val_loss: 1.3270 - val_accuracy: 0.5505 - val_precision: 0.2777 - val_recall: 0.8041\n",
            "Epoch 66/100\n",
            "25/25 [==============================] - 0s 19ms/step - loss: 0.0920 - accuracy: 0.9751 - precision: 0.9689 - recall: 0.9816 - val_loss: 1.3181 - val_accuracy: 0.5515 - val_precision: 0.2762 - val_recall: 0.7913\n",
            "Epoch 67/100\n",
            "25/25 [==============================] - 0s 16ms/step - loss: 0.0918 - accuracy: 0.9740 - precision: 0.9683 - recall: 0.9800 - val_loss: 1.3378 - val_accuracy: 0.5500 - val_precision: 0.2767 - val_recall: 0.7990\n",
            "Epoch 68/100\n",
            "25/25 [==============================] - 0s 11ms/step - loss: 0.0916 - accuracy: 0.9750 - precision: 0.9697 - recall: 0.9806 - val_loss: 1.2978 - val_accuracy: 0.5555 - val_precision: 0.2774 - val_recall: 0.7863\n",
            "Epoch 69/100\n",
            "25/25 [==============================] - 0s 9ms/step - loss: 0.0913 - accuracy: 0.9750 - precision: 0.9701 - recall: 0.9802 - val_loss: 1.3568 - val_accuracy: 0.5495 - val_precision: 0.2764 - val_recall: 0.7990\n",
            "Epoch 70/100\n",
            "25/25 [==============================] - 0s 8ms/step - loss: 0.0901 - accuracy: 0.9744 - precision: 0.9696 - recall: 0.9795 - val_loss: 1.3366 - val_accuracy: 0.5530 - val_precision: 0.2773 - val_recall: 0.7939\n",
            "Epoch 71/100\n",
            "25/25 [==============================] - 0s 10ms/step - loss: 0.0892 - accuracy: 0.9753 - precision: 0.9704 - recall: 0.9805 - val_loss: 1.3308 - val_accuracy: 0.5560 - val_precision: 0.2788 - val_recall: 0.7939\n",
            "Epoch 72/100\n",
            "25/25 [==============================] - 0s 11ms/step - loss: 0.0882 - accuracy: 0.9764 - precision: 0.9705 - recall: 0.9827 - val_loss: 1.3245 - val_accuracy: 0.5575 - val_precision: 0.2784 - val_recall: 0.7863\n",
            "Epoch 73/100\n",
            "25/25 [==============================] - 0s 10ms/step - loss: 0.0872 - accuracy: 0.9773 - precision: 0.9724 - recall: 0.9824 - val_loss: 1.3265 - val_accuracy: 0.5605 - val_precision: 0.2795 - val_recall: 0.7837\n",
            "Epoch 74/100\n",
            "25/25 [==============================] - 0s 9ms/step - loss: 0.0873 - accuracy: 0.9761 - precision: 0.9710 - recall: 0.9814 - val_loss: 1.3400 - val_accuracy: 0.5545 - val_precision: 0.2781 - val_recall: 0.7939\n",
            "Epoch 75/100\n",
            "25/25 [==============================] - 0s 7ms/step - loss: 0.0869 - accuracy: 0.9762 - precision: 0.9712 - recall: 0.9816 - val_loss: 1.3420 - val_accuracy: 0.5590 - val_precision: 0.2795 - val_recall: 0.7888\n",
            "Epoch 76/100\n",
            "25/25 [==============================] - 0s 6ms/step - loss: 0.0856 - accuracy: 0.9777 - precision: 0.9730 - recall: 0.9825 - val_loss: 1.3927 - val_accuracy: 0.5515 - val_precision: 0.2774 - val_recall: 0.7990\n",
            "Epoch 77/100\n",
            "25/25 [==============================] - 0s 5ms/step - loss: 0.0854 - accuracy: 0.9771 - precision: 0.9724 - recall: 0.9821 - val_loss: 1.3592 - val_accuracy: 0.5590 - val_precision: 0.2799 - val_recall: 0.7913\n",
            "Epoch 78/100\n",
            "25/25 [==============================] - 0s 5ms/step - loss: 0.0858 - accuracy: 0.9768 - precision: 0.9720 - recall: 0.9819 - val_loss: 1.3840 - val_accuracy: 0.5570 - val_precision: 0.2797 - val_recall: 0.7964\n",
            "Epoch 79/100\n",
            "25/25 [==============================] - 0s 6ms/step - loss: 0.0850 - accuracy: 0.9772 - precision: 0.9738 - recall: 0.9808 - val_loss: 1.3757 - val_accuracy: 0.5500 - val_precision: 0.2755 - val_recall: 0.7913\n",
            "Epoch 80/100\n",
            "25/25 [==============================] - 0s 5ms/step - loss: 0.0839 - accuracy: 0.9776 - precision: 0.9732 - recall: 0.9822 - val_loss: 1.3905 - val_accuracy: 0.5505 - val_precision: 0.2761 - val_recall: 0.7939\n",
            "Epoch 81/100\n",
            "25/25 [==============================] - 0s 5ms/step - loss: 0.0829 - accuracy: 0.9781 - precision: 0.9740 - recall: 0.9824 - val_loss: 1.3659 - val_accuracy: 0.5575 - val_precision: 0.2788 - val_recall: 0.7888\n",
            "Epoch 82/100\n",
            "25/25 [==============================] - 0s 5ms/step - loss: 0.0815 - accuracy: 0.9792 - precision: 0.9752 - recall: 0.9833 - val_loss: 1.4089 - val_accuracy: 0.5540 - val_precision: 0.2786 - val_recall: 0.7990\n",
            "Epoch 83/100\n",
            "25/25 [==============================] - 0s 6ms/step - loss: 0.0808 - accuracy: 0.9792 - precision: 0.9752 - recall: 0.9833 - val_loss: 1.3786 - val_accuracy: 0.5600 - val_precision: 0.2796 - val_recall: 0.7863\n",
            "Epoch 84/100\n",
            "25/25 [==============================] - 0s 5ms/step - loss: 0.0803 - accuracy: 0.9790 - precision: 0.9746 - recall: 0.9836 - val_loss: 1.3932 - val_accuracy: 0.5580 - val_precision: 0.2798 - val_recall: 0.7939\n",
            "Epoch 85/100\n",
            "25/25 [==============================] - 0s 5ms/step - loss: 0.0795 - accuracy: 0.9803 - precision: 0.9766 - recall: 0.9843 - val_loss: 1.3823 - val_accuracy: 0.5580 - val_precision: 0.2790 - val_recall: 0.7888\n",
            "Epoch 86/100\n",
            "25/25 [==============================] - 0s 5ms/step - loss: 0.0794 - accuracy: 0.9798 - precision: 0.9754 - recall: 0.9844 - val_loss: 1.4298 - val_accuracy: 0.5530 - val_precision: 0.2769 - val_recall: 0.7913\n",
            "Epoch 87/100\n",
            "25/25 [==============================] - 0s 5ms/step - loss: 0.0791 - accuracy: 0.9796 - precision: 0.9752 - recall: 0.9843 - val_loss: 1.4368 - val_accuracy: 0.5575 - val_precision: 0.2804 - val_recall: 0.7990\n",
            "Epoch 88/100\n",
            "25/25 [==============================] - 0s 6ms/step - loss: 0.0786 - accuracy: 0.9789 - precision: 0.9750 - recall: 0.9830 - val_loss: 1.4040 - val_accuracy: 0.5610 - val_precision: 0.2805 - val_recall: 0.7888\n",
            "Epoch 89/100\n",
            "25/25 [==============================] - 0s 5ms/step - loss: 0.0796 - accuracy: 0.9788 - precision: 0.9737 - recall: 0.9841 - val_loss: 1.4263 - val_accuracy: 0.5560 - val_precision: 0.2780 - val_recall: 0.7888\n",
            "Epoch 90/100\n",
            "25/25 [==============================] - 0s 6ms/step - loss: 0.0779 - accuracy: 0.9804 - precision: 0.9772 - recall: 0.9838 - val_loss: 1.4804 - val_accuracy: 0.5490 - val_precision: 0.2766 - val_recall: 0.8015\n",
            "Epoch 91/100\n",
            "25/25 [==============================] - 0s 5ms/step - loss: 0.0769 - accuracy: 0.9796 - precision: 0.9752 - recall: 0.9843 - val_loss: 1.4265 - val_accuracy: 0.5545 - val_precision: 0.2777 - val_recall: 0.7913\n",
            "Epoch 92/100\n",
            "25/25 [==============================] - 0s 5ms/step - loss: 0.0755 - accuracy: 0.9802 - precision: 0.9761 - recall: 0.9844 - val_loss: 1.4013 - val_accuracy: 0.5665 - val_precision: 0.2818 - val_recall: 0.7786\n",
            "Epoch 93/100\n",
            "25/25 [==============================] - 0s 6ms/step - loss: 0.0749 - accuracy: 0.9815 - precision: 0.9771 - recall: 0.9862 - val_loss: 1.4415 - val_accuracy: 0.5535 - val_precision: 0.2776 - val_recall: 0.7939\n",
            "Epoch 94/100\n",
            "25/25 [==============================] - 0s 5ms/step - loss: 0.0739 - accuracy: 0.9818 - precision: 0.9784 - recall: 0.9854 - val_loss: 1.4104 - val_accuracy: 0.5635 - val_precision: 0.2802 - val_recall: 0.7786\n",
            "Epoch 95/100\n",
            "25/25 [==============================] - 0s 5ms/step - loss: 0.0736 - accuracy: 0.9821 - precision: 0.9776 - recall: 0.9869 - val_loss: 1.4720 - val_accuracy: 0.5545 - val_precision: 0.2793 - val_recall: 0.8015\n",
            "Epoch 96/100\n",
            "25/25 [==============================] - 0s 5ms/step - loss: 0.0728 - accuracy: 0.9822 - precision: 0.9792 - recall: 0.9854 - val_loss: 1.4388 - val_accuracy: 0.5615 - val_precision: 0.2800 - val_recall: 0.7837\n",
            "Epoch 97/100\n",
            "25/25 [==============================] - 0s 6ms/step - loss: 0.0725 - accuracy: 0.9817 - precision: 0.9783 - recall: 0.9854 - val_loss: 1.4316 - val_accuracy: 0.5655 - val_precision: 0.2821 - val_recall: 0.7837\n",
            "Epoch 98/100\n",
            "25/25 [==============================] - 0s 6ms/step - loss: 0.0722 - accuracy: 0.9824 - precision: 0.9789 - recall: 0.9860 - val_loss: 1.4520 - val_accuracy: 0.5595 - val_precision: 0.2798 - val_recall: 0.7888\n",
            "Epoch 99/100\n",
            "25/25 [==============================] - 0s 5ms/step - loss: 0.0723 - accuracy: 0.9819 - precision: 0.9787 - recall: 0.9852 - val_loss: 1.4730 - val_accuracy: 0.5600 - val_precision: 0.2796 - val_recall: 0.7863\n",
            "Epoch 100/100\n",
            "25/25 [==============================] - 0s 5ms/step - loss: 0.0708 - accuracy: 0.9819 - precision: 0.9783 - recall: 0.9857 - val_loss: 1.4496 - val_accuracy: 0.5615 - val_precision: 0.2792 - val_recall: 0.7786\n"
          ]
        }
      ]
    },
    {
      "cell_type": "code",
      "source": [
        "def hypermodel(hyp):\n",
        "\n",
        "  #create a model\n",
        "  model = tf.keras.Sequential()\n",
        "\n",
        "  #create input layer\n",
        "  model.add(tf.keras.layers.Input(shape = (50,)))\n",
        "\n",
        "  #creat the hidden layer\n",
        "  for layer_num in range(hyp.Int('Number of layers: ',min_value = 1, max_value =25)):\n",
        "    model.add(tf.keras.layers.Dense(units = hyp.Int(f'Number of Neurons for layer {layer_num} ', min_value = 4, max_value = 20, step =5),\n",
        "                                    activation = hyp.Choice(f'activation funtion for layer {layer_num}: ', ['sigmoid','relu']),\n",
        "                                    kernel_initializer = hyp.Choice(f'Kernal Initialer for layer {layer_num}: ', ['he_normal','he_uniform','glorot_normal','glorot_uniform'])))\n",
        "    \n",
        "  #create the output layer\n",
        "  model.add(tf.keras.layers.Dense(units = 1, activation = 'sigmoid',\n",
        "                                  kernel_initializer = hyp.Choice('Kernal Initialer for Output layer: ', ['he_normal','he_uniform','glorot_normal','glorot_uniform'])))\n",
        "  \n",
        "  #compile the model\n",
        "  model.compile(optimizer = 'Adam',\n",
        "                loss = 'binary_crossentropy',\n",
        "                metrics = ['accuracy','Precision','Recall'])\n",
        "  \n",
        "  return model"
      ],
      "metadata": {
        "id": "KRAEPg64sPXD"
      },
      "execution_count": null,
      "outputs": []
    },
    {
      "cell_type": "code",
      "source": [
        "tuner =  RandomSearch(hypermodel = hypermodel,\n",
        "                      objective = 'accuracy')"
      ],
      "metadata": {
        "id": "cYtqDmA5s6pP"
      },
      "execution_count": null,
      "outputs": []
    },
    {
      "cell_type": "code",
      "source": [
        "tuner.search_space_summary()"
      ],
      "metadata": {
        "colab": {
          "base_uri": "https://localhost:8080/"
        },
        "id": "9CIE8WLNwOuI",
        "outputId": "385ddc73-c40b-436a-8f56-9aef1f9a7aff"
      },
      "execution_count": null,
      "outputs": [
        {
          "output_type": "stream",
          "name": "stdout",
          "text": [
            "Search space summary\n",
            "Default search space size: 5\n",
            "Number of layers:  (Int)\n",
            "{'default': None, 'conditions': [], 'min_value': 1, 'max_value': 25, 'step': 1, 'sampling': None}\n",
            "Number of Neurons for layer 0  (Int)\n",
            "{'default': None, 'conditions': [], 'min_value': 4, 'max_value': 20, 'step': 5, 'sampling': None}\n",
            "activation funtion for layer 0:  (Choice)\n",
            "{'default': 'sigmoid', 'conditions': [], 'values': ['sigmoid', 'relu'], 'ordered': False}\n",
            "Kernal Initialer for layer 0:  (Choice)\n",
            "{'default': 'he_normal', 'conditions': [], 'values': ['he_normal', 'he_uniform', 'glorot_normal', 'glorot_uniform'], 'ordered': False}\n",
            "Kernal Initialer for Output layer:  (Choice)\n",
            "{'default': 'he_normal', 'conditions': [], 'values': ['he_normal', 'he_uniform', 'glorot_normal', 'glorot_uniform'], 'ordered': False}\n"
          ]
        }
      ]
    },
    {
      "cell_type": "code",
      "source": [
        "tuner.search(x=X_train, y=y_train, batch_size=512, epochs=100)"
      ],
      "metadata": {
        "colab": {
          "base_uri": "https://localhost:8080/"
        },
        "id": "TEl0wgPnwR7O",
        "outputId": "5981b19d-e5e0-491d-c259-7ce90da32990"
      },
      "execution_count": null,
      "outputs": [
        {
          "output_type": "stream",
          "name": "stdout",
          "text": [
            "Trial 10 Complete [00h 00m 19s]\n",
            "accuracy: 0.5014159679412842\n",
            "\n",
            "Best accuracy So Far: 0.8584015369415283\n",
            "Total elapsed time: 00h 03m 12s\n"
          ]
        }
      ]
    },
    {
      "cell_type": "code",
      "source": [
        "best_model = tuner.get_best_models()[0]"
      ],
      "metadata": {
        "id": "VIZBbKwgweP7"
      },
      "execution_count": null,
      "outputs": []
    },
    {
      "cell_type": "code",
      "source": [
        "best_model.summary()"
      ],
      "metadata": {
        "colab": {
          "base_uri": "https://localhost:8080/"
        },
        "id": "YHhY12KnxXh8",
        "outputId": "e9690d3a-2447-452e-b921-4feb10865849"
      },
      "execution_count": null,
      "outputs": [
        {
          "output_type": "stream",
          "name": "stdout",
          "text": [
            "Model: \"sequential\"\n",
            "_________________________________________________________________\n",
            " Layer (type)                Output Shape              Param #   \n",
            "=================================================================\n",
            " dense (Dense)               (None, 14)                714       \n",
            "                                                                 \n",
            " dense_1 (Dense)             (None, 19)                285       \n",
            "                                                                 \n",
            " dense_2 (Dense)             (None, 19)                380       \n",
            "                                                                 \n",
            " dense_3 (Dense)             (None, 4)                 80        \n",
            "                                                                 \n",
            " dense_4 (Dense)             (None, 14)                70        \n",
            "                                                                 \n",
            " dense_5 (Dense)             (None, 9)                 135       \n",
            "                                                                 \n",
            " dense_6 (Dense)             (None, 14)                140       \n",
            "                                                                 \n",
            " dense_7 (Dense)             (None, 14)                210       \n",
            "                                                                 \n",
            " dense_8 (Dense)             (None, 1)                 15        \n",
            "                                                                 \n",
            "=================================================================\n",
            "Total params: 2,029\n",
            "Trainable params: 2,029\n",
            "Non-trainable params: 0\n",
            "_________________________________________________________________\n"
          ]
        }
      ]
    },
    {
      "cell_type": "code",
      "source": [
        "model_weights_dir = 'Weights'\n",
        "os.makedirs(model_weights_dir, exist_ok=True)"
      ],
      "metadata": {
        "id": "UeXiTMZ4xdPI"
      },
      "execution_count": null,
      "outputs": []
    },
    {
      "cell_type": "code",
      "source": [
        "best_model.save(os.path.join(model_weights_dir, 'Best_model.tf'), save_format='tf')"
      ],
      "metadata": {
        "id": "IaLnTvJyx_Ov"
      },
      "execution_count": null,
      "outputs": []
    },
    {
      "cell_type": "code",
      "source": [
        "loaded_model = tf.keras.models.load_model(os.path.join(model_weights_dir,'Best_model.tf'))"
      ],
      "metadata": {
        "id": "K3ca3zQUyqu3"
      },
      "execution_count": null,
      "outputs": []
    },
    {
      "cell_type": "code",
      "source": [
        "loaded_model.summary()"
      ],
      "metadata": {
        "colab": {
          "base_uri": "https://localhost:8080/"
        },
        "id": "ar-IHd4dzETM",
        "outputId": "c331fb9e-2694-430f-c6b5-3f45e416ed7c"
      },
      "execution_count": null,
      "outputs": [
        {
          "output_type": "stream",
          "name": "stdout",
          "text": [
            "Model: \"sequential\"\n",
            "_________________________________________________________________\n",
            " Layer (type)                Output Shape              Param #   \n",
            "=================================================================\n",
            " dense (Dense)               (None, 14)                714       \n",
            "                                                                 \n",
            " dense_1 (Dense)             (None, 19)                285       \n",
            "                                                                 \n",
            " dense_2 (Dense)             (None, 19)                380       \n",
            "                                                                 \n",
            " dense_3 (Dense)             (None, 4)                 80        \n",
            "                                                                 \n",
            " dense_4 (Dense)             (None, 14)                70        \n",
            "                                                                 \n",
            " dense_5 (Dense)             (None, 9)                 135       \n",
            "                                                                 \n",
            " dense_6 (Dense)             (None, 14)                140       \n",
            "                                                                 \n",
            " dense_7 (Dense)             (None, 14)                210       \n",
            "                                                                 \n",
            " dense_8 (Dense)             (None, 1)                 15        \n",
            "                                                                 \n",
            "=================================================================\n",
            "Total params: 2,029\n",
            "Trainable params: 2,029\n",
            "Non-trainable params: 0\n",
            "_________________________________________________________________\n"
          ]
        }
      ]
    },
    {
      "cell_type": "code",
      "source": [
        "evaluation = loaded_model.evaluate(x=X_test, y =y_test, batch_size=512)"
      ],
      "metadata": {
        "colab": {
          "base_uri": "https://localhost:8080/"
        },
        "id": "Dz0TImk8zU5Q",
        "outputId": "3d46bebc-e129-47ab-8983-bed392cdddb0"
      },
      "execution_count": null,
      "outputs": [
        {
          "output_type": "stream",
          "name": "stdout",
          "text": [
            "4/4 [==============================] - 0s 7ms/step - loss: 1.0717 - accuracy: 0.5050 - precision: 0.2691 - recall: 0.8855\n"
          ]
        }
      ]
    },
    {
      "cell_type": "code",
      "source": [
        "y_predict = loaded_model.predict(X_test)\n",
        "y_predict"
      ],
      "metadata": {
        "colab": {
          "base_uri": "https://localhost:8080/"
        },
        "id": "W4YgNYHyziIZ",
        "outputId": "5ef34ff5-573f-4bee-ee63-34084fe2a47d"
      },
      "execution_count": null,
      "outputs": [
        {
          "output_type": "stream",
          "name": "stdout",
          "text": [
            "63/63 [==============================] - 0s 2ms/step\n"
          ]
        },
        {
          "output_type": "execute_result",
          "data": {
            "text/plain": [
              "array([[0.7750837 ],\n",
              "       [0.08229511],\n",
              "       [0.795843  ],\n",
              "       ...,\n",
              "       [0.90981156],\n",
              "       [0.86077493],\n",
              "       [0.90981156]], dtype=float32)"
            ]
          },
          "metadata": {},
          "execution_count": 56
        }
      ]
    },
    {
      "cell_type": "code",
      "source": [
        "y_predict = list(map(int, y_predict>0.5))"
      ],
      "metadata": {
        "id": "FfHjYi9RzqII"
      },
      "execution_count": null,
      "outputs": []
    },
    {
      "cell_type": "code",
      "source": [
        "y_predict"
      ],
      "metadata": {
        "id": "KXU04FrKzvgF"
      },
      "execution_count": null,
      "outputs": []
    }
  ]
}